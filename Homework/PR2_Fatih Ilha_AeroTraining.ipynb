{
 "cells": [
  {
   "cell_type": "code",
   "execution_count": 3,
   "id": "0d0b388d",
   "metadata": {},
   "outputs": [],
   "source": [
    "gamma=1.4\n",
    "R=287\n",
    "rho=1.0065"
   ]
  },
  {
   "cell_type": "code",
   "execution_count": 4,
   "id": "29da7f5b",
   "metadata": {},
   "outputs": [],
   "source": [
    "class calc:\n",
    "    \n",
    "    def __init__ (self, M, T, L, D, S):\n",
    "        self.Mach_Number = M\n",
    "        self.Temperature = T\n",
    "        self.Lift = L\n",
    "        self.Drag = D\n",
    "        self.S_Area = S\n",
    "    \n",
    "    def velocity(self):\n",
    "        v = self.Mach_Number*((gamma*R*self.Temperature)**(1/2))\n",
    "        return v\n",
    "    \n",
    "    def c_l(self):\n",
    "        return  self.Lift/(0.5*rho*self.S_Area*(self.velocity()**2))\n",
    "    \n",
    "    def c_d(self):\n",
    "        return  self.Drag/(0.5*rho*self.S_Area*(self.velocity()**2))  \n"
   ]
  },
  {
   "cell_type": "code",
   "execution_count": 15,
   "id": "14d52191",
   "metadata": {},
   "outputs": [
    {
     "name": "stdout",
     "output_type": "stream",
     "text": [
      "['Mach', 'Velocity', 'CL', 'CD']\n",
      "[0.18, 59.8497, 0.3298, 0.1145]\n"
     ]
    }
   ],
   "source": [
    "table = ['Mach','Velocity', 'CL', 'CD' ]\n",
    "print(table)\n",
    "table.clear()\n",
    "\n",
    "p1 = calc(0.18, 275.15, 9000, 3125, 15.14)\n",
    "\n",
    "table.append(0.18)\n",
    "\n",
    "V1 = p1.velocity()\n",
    "table.append(round(V1, 4))\n",
    "\n",
    "cl1 = p1.c_l()\n",
    "table.append(round(cl1, 4))\n",
    "\n",
    "cd1 =  p1.c_d()\n",
    "table.append(round(cd1, 4))\n",
    "\n",
    "print (table)"
   ]
  },
  {
   "cell_type": "code",
   "execution_count": null,
   "id": "433b2515",
   "metadata": {},
   "outputs": [],
   "source": []
  },
  {
   "cell_type": "code",
   "execution_count": null,
   "id": "af58649a",
   "metadata": {
    "scrolled": false
   },
   "outputs": [],
   "source": []
  },
  {
   "cell_type": "code",
   "execution_count": null,
   "id": "29cad337",
   "metadata": {},
   "outputs": [],
   "source": []
  }
 ],
 "metadata": {
  "kernelspec": {
   "display_name": "Python 3",
   "language": "python",
   "name": "python3"
  },
  "language_info": {
   "codemirror_mode": {
    "name": "ipython",
    "version": 3
   },
   "file_extension": ".py",
   "mimetype": "text/x-python",
   "name": "python",
   "nbconvert_exporter": "python",
   "pygments_lexer": "ipython3",
   "version": "3.8.8"
  }
 },
 "nbformat": 4,
 "nbformat_minor": 5
}
