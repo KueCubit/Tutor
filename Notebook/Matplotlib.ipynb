{
  "nbformat": 4,
  "nbformat_minor": 0,
  "metadata": {
    "colab": {
      "name": "Matplotlib.ipynb",
      "provenance": [],
      "collapsed_sections": [
        "6X927pyw2cDy",
        "RF5fejq72n9H",
        "bgjvddY_7R9O",
        "KsvZ0cG6rv69",
        "1fRi_UXSx1NK",
        "JIoTJIgKHyzB"
      ]
    },
    "kernelspec": {
      "name": "python3",
      "display_name": "Python 3"
    },
    "language_info": {
      "name": "python"
    }
  },
  "cells": [
    {
      "cell_type": "markdown",
      "metadata": {
        "id": "DIiwUiglrTvK"
      },
      "source": [
        "---\n",
        "#**Exploratory Data Analysis and Visualization - Matplotlib**\n",
        "Python Notebook ini dibuat untuk kegiatan AeroTraining - *Python Programming, Data Analysis and Machine Learning* dari **Keluarga Mahasiswa Teknik Penerbangan** oleh **Rafael Stevenson** 13617054.\n",
        "\n",
        "---"
      ]
    },
    {
      "cell_type": "markdown",
      "metadata": {
        "id": "MeYXDHYbrXzk"
      },
      "source": [
        "# **Matplotlib**\n",
        "Matplotlib merupakan salah satu library tertua untuk melakukan data visualization di Python.\n",
        "\n",
        "Matplotlib bisa digunakan untuk membuat plot grafik 2 dimensi maupun 3 dimensi.\n",
        "\n",
        "Beberapa keunggulan Matplotlib adalah:\n",
        "\n",
        "* Generally easy to get started for simple plots\n",
        "* Support for custom labels and texts\n",
        "* Great control of every element in a figure\n",
        "* High-quality output in many formats\n",
        "* Very customizable in general\n",
        "\n",
        "### http://matplotlib.org/"
      ]
    },
    {
      "cell_type": "markdown",
      "metadata": {
        "id": "_St-bzN32LnW"
      },
      "source": [
        "![index.png](data:image/png;base64,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)"
      ]
    },
    {
      "cell_type": "markdown",
      "metadata": {
        "id": "6X927pyw2cDy"
      },
      "source": [
        "# Importing Matplotlib"
      ]
    },
    {
      "cell_type": "code",
      "metadata": {
        "id": "SphfZ85erKJF"
      },
      "source": [
        "import matplotlib.pyplot as plt"
      ],
      "execution_count": null,
      "outputs": []
    },
    {
      "cell_type": "markdown",
      "metadata": {
        "id": "RF5fejq72n9H"
      },
      "source": [
        "# Matplotlib Basics\n",
        "Elemen paling dasar dari sebuah plot adalah bisa melakukan **plot data array**, kemudian **diberi label dan judul** yang menjelaskan plot tersebut, kemudian **disimpan menjadi file** image plot."
      ]
    },
    {
      "cell_type": "code",
      "metadata": {
        "id": "Unvc98_o2fwo",
        "colab": {
          "base_uri": "https://localhost:8080/"
        },
        "outputId": "52c887c8-45a1-4118-a041-18eae0fca4d2"
      },
      "source": [
        "import numpy as np\n",
        "x = np.arange(0,36)\n",
        "x"
      ],
      "execution_count": null,
      "outputs": [
        {
          "output_type": "execute_result",
          "data": {
            "text/plain": [
              "array([ 0,  1,  2,  3,  4,  5,  6,  7,  8,  9, 10, 11, 12, 13, 14, 15, 16,\n",
              "       17, 18, 19, 20, 21, 22, 23, 24, 25, 26, 27, 28, 29, 30, 31, 32, 33,\n",
              "       34, 35])"
            ]
          },
          "metadata": {},
          "execution_count": 2
        }
      ]
    },
    {
      "cell_type": "code",
      "metadata": {
        "id": "hXn_jvZI3MWL",
        "colab": {
          "base_uri": "https://localhost:8080/"
        },
        "outputId": "1e7e2976-1881-46ed-e056-a38c8610bc5f"
      },
      "source": [
        "y = x**2\n",
        "y"
      ],
      "execution_count": null,
      "outputs": [
        {
          "output_type": "execute_result",
          "data": {
            "text/plain": [
              "array([   0,    1,    4,    9,   16,   25,   36,   49,   64,   81,  100,\n",
              "        121,  144,  169,  196,  225,  256,  289,  324,  361,  400,  441,\n",
              "        484,  529,  576,  625,  676,  729,  784,  841,  900,  961, 1024,\n",
              "       1089, 1156, 1225])"
            ]
          },
          "metadata": {},
          "execution_count": 3
        }
      ]
    },
    {
      "cell_type": "markdown",
      "metadata": {
        "id": "9sSzVhkb3V6S"
      },
      "source": [
        "## `plt.plot()`"
      ]
    },
    {
      "cell_type": "code",
      "metadata": {
        "id": "Cft58EH63PfW",
        "colab": {
          "base_uri": "https://localhost:8080/",
          "height": 283
        },
        "outputId": "70765bab-0952-458f-cd66-8bdde66f2e64"
      },
      "source": [
        "plt.plot(x, y)\n",
        "#plt.show() #Untuk non notebook user, agar plot nya muncul (di-show)"
      ],
      "execution_count": null,
      "outputs": [
        {
          "output_type": "execute_result",
          "data": {
            "text/plain": [
              "[<matplotlib.lines.Line2D at 0x7fda343b3410>]"
            ]
          },
          "metadata": {},
          "execution_count": 4
        },
        {
          "output_type": "display_data",
          "data": {
            "image/png": "[encoded data removed]",
            "text/plain": [
              "<Figure size 432x288 with 1 Axes>"
            ]
          },
          "metadata": {
            "needs_background": "light"
          }
        }
      ]
    },
    {
      "cell_type": "markdown",
      "metadata": {
        "id": "TVWJXhvb32_a"
      },
      "source": [
        "## Plot Label and Title"
      ]
    },
    {
      "cell_type": "code",
      "metadata": {
        "id": "fv-p8yo13cSw",
        "colab": {
          "base_uri": "https://localhost:8080/",
          "height": 295
        },
        "outputId": "5fc935c4-c69d-4715-b018-f15aef423123"
      },
      "source": [
        "plt.plot(x, y)\n",
        "plt.xlabel('Penjelasan X axis') #!\n",
        "plt.ylabel('Penjelasan Y axis') #!\n",
        "plt.title('Judul Plotnya'); #!"
      ],
      "execution_count": null,
      "outputs": [
        {
          "output_type": "display_data",
          "data": {
            "image/png": "[encoded data removed]",
            "text/plain": [
              "<Figure size 432x288 with 1 Axes>"
            ]
          },
          "metadata": {
            "needs_background": "light"
          }
        }
      ]
    },
    {
      "cell_type": "markdown",
      "metadata": {
        "id": "LV3M56RQ4fiF"
      },
      "source": [
        "## Axis Limits"
      ]
    },
    {
      "cell_type": "code",
      "metadata": {
        "id": "a-x0CSTG3-TR",
        "colab": {
          "base_uri": "https://localhost:8080/",
          "height": 313
        },
        "outputId": "f061d26f-cf47-443b-b2c0-cb86b8e24f77"
      },
      "source": [
        "plt.plot(x, y)\n",
        "plt.xlabel('Penjelasan X axis')\n",
        "plt.ylabel('Penjelasan Y axis')\n",
        "plt.title('Judul Plotnya');\n",
        "plt.xlim(0,35) # Lower Limit, Upper Limit \n",
        "plt.ylim(0,1225) # Lower Limit, Upper Limit"
      ],
      "execution_count": null,
      "outputs": [
        {
          "output_type": "execute_result",
          "data": {
            "text/plain": [
              "(0.0, 1225.0)"
            ]
          },
          "metadata": {},
          "execution_count": 6
        },
        {
          "output_type": "display_data",
          "data": {
            "image/png": "[encoded data removed]",
            "text/plain": [
              "<Figure size 432x288 with 1 Axes>"
            ]
          },
          "metadata": {
            "needs_background": "light"
          }
        }
      ]
    },
    {
      "cell_type": "markdown",
      "metadata": {
        "id": "TOaG7OqX43un"
      },
      "source": [
        "## Exporting Plot"
      ]
    },
    {
      "cell_type": "code",
      "metadata": {
        "id": "gndaZxQp4rJb",
        "colab": {
          "base_uri": "https://localhost:8080/",
          "height": 295
        },
        "outputId": "9f03dc35-cbc1-4dd8-97f0-d0937324384f"
      },
      "source": [
        "plt.plot(x, y)\n",
        "plt.xlabel('Penjelasan X axis')\n",
        "plt.ylabel('Penjelasan Y axis')\n",
        "plt.title('Judul Plotnya');\n",
        "plt.xlim(0,35) # Lower Limit, Upper Limit\n",
        "plt.ylim(0,1225) # Lower Limit, Upper Limit\n",
        "\n",
        "plt.savefig('plot_basic.jpg') #!\n",
        "plt.savefig('plot_basic.png') #!"
      ],
      "execution_count": null,
      "outputs": [
        {
          "output_type": "display_data",
          "data": {
            "image/png": "[encoded data removed]",
            "text/plain": [
              "<Figure size 432x288 with 1 Axes>"
            ]
          },
          "metadata": {
            "needs_background": "light"
          }
        }
      ]
    },
    {
      "cell_type": "markdown",
      "metadata": {
        "id": "bgjvddY_7R9O"
      },
      "source": [
        "# Figure Object\n",
        "Setelah mengetahui basicsnya, akan lebih berguna jika kita memanfaatkan fungsi Object Oriented pada Matplotlib untuk merepresentasikan figur sebagai suatu objek yang memiliki attribut dan method sendiri."
      ]
    },
    {
      "cell_type": "code",
      "metadata": {
        "id": "0_HB5Oem5IFU"
      },
      "source": [
        "fig = plt.figure()"
      ],
      "execution_count": null,
      "outputs": []
    },
    {
      "cell_type": "markdown",
      "metadata": {
        "id": "ERmB1-PEkFgU"
      },
      "source": [
        "## `.add_axes()`"
      ]
    },
    {
      "cell_type": "code",
      "metadata": {
        "id": "IUU4aY1bfgJ6"
      },
      "source": [
        "# Create Figure (empty canvas)\n",
        "fig = plt.figure()\n",
        "\n",
        "# Add set of axes to figure\n",
        "axes = fig.add_axes([0, 0, 1, 1]) # left, bottom, width, height (range 0 to 1)\n",
        "\n",
        "# Plot on that set of axes\n",
        "axes.plot(x, y)\n",
        "\n",
        "plt.show()"
      ],
      "execution_count": null,
      "outputs": []
    },
    {
      "cell_type": "code",
      "metadata": {
        "id": "a9Faj-6Tfgjd"
      },
      "source": [
        "# Creates blank canvas\n",
        "fig = plt.figure()\n",
        "\n",
        "axes1 = fig.add_axes([0, 0, 1, 1]) # Large figure\n",
        "axes2 = fig.add_axes([0.2, 0.2, 0.5, 0.5]) # Smaller figure\n",
        "\n",
        "# Larger Figure Axes 1\n",
        "axes1.plot(x, y)\n",
        "\n",
        "# Use set_ to add to the axes figure\n",
        "axes1.set_xlabel('X Label')\n",
        "axes1.set_ylabel('Y Label')\n",
        "axes1.set_title('Big Figure')\n",
        "\n",
        "# Insert Figure Axes 2\n",
        "axes2.plot(x, y)\n",
        "axes2.set_title('Small Figure');"
      ],
      "execution_count": null,
      "outputs": []
    },
    {
      "cell_type": "code",
      "metadata": {
        "id": "ymPVCXJrfrQ0"
      },
      "source": [
        "# Creates blank canvas\n",
        "fig = plt.figure()\n",
        "\n",
        "axes1 = fig.add_axes([0, 0, 1, 1]) # Large figure\n",
        "axes2 = fig.add_axes([0.2, 0.5, 0.25, 0.25]) # Smaller figure\n",
        "\n",
        "# Larger Figure Axes 1\n",
        "axes1.plot(x, y)\n",
        "\n",
        "# Use set_ to add to the axes figure\n",
        "axes1.set_xlabel('X Label')\n",
        "axes1.set_ylabel('Y Label')\n",
        "axes1.set_title('Big Figure')\n",
        "\n",
        "# Insert Figure Axes 2\n",
        "axes2.plot(x, y)\n",
        "axes2.set_xlim(25,30) # Lower Limit, Upper Limit\n",
        "axes2.set_ylim(600,900) # Lower Limit, Upper Limit\n",
        "axes2.set_xlabel('X')\n",
        "axes2.set_ylabel('Y')\n",
        "axes2.set_title('Zoomed In');"
      ],
      "execution_count": null,
      "outputs": []
    },
    {
      "cell_type": "code",
      "metadata": {
        "id": "ocy2fALsitFF"
      },
      "source": [
        "# Creates blank canvas\n",
        "fig = plt.figure()\n",
        "\n",
        "axes1 = fig.add_axes([0, 0, 1, 1]) # Large figure\n",
        "axes2 = fig.add_axes([0.2, 0.5, 0.25, 0.25]) # Smaller figure\n",
        "axes3 = fig.add_axes([1, 1, 0.25, 0.25])\n",
        "\n",
        "# Larger Figure Axes 1\n",
        "axes1.plot(x, y)\n",
        "\n",
        "# Use set_ to add to the axes figure\n",
        "axes1.set_xlabel('X Label')\n",
        "axes1.set_ylabel('Y Label')\n",
        "axes1.set_title('Big Figure')\n",
        "\n",
        "# Insert Figure Axes 2\n",
        "axes2.plot(x, y)\n",
        "axes2.set_xlim(25,30) # Lower Limit, Upper Limit\n",
        "axes2.set_ylim(600,900) # Lower Limit, Upper Limit\n",
        "axes2.set_xlabel('X')\n",
        "axes2.set_ylabel('Y')\n",
        "axes2.set_title('Zoomed In');\n",
        "\n",
        "# Insert Figure Axes 3\n",
        "axes3.plot(x, y)"
      ],
      "execution_count": null,
      "outputs": []
    },
    {
      "cell_type": "markdown",
      "metadata": {
        "id": "PdmLXOTLj-fh"
      },
      "source": [
        "## Figure Parameters"
      ]
    },
    {
      "cell_type": "markdown",
      "metadata": {
        "id": "q9-pwYSqkc11"
      },
      "source": [
        "`figsize` : width,height in inches where defaul(6.4, 4.8)"
      ]
    },
    {
      "cell_type": "code",
      "metadata": {
        "id": "wxf6sUtfjqq6"
      },
      "source": [
        "# Creates blank canvas\n",
        "fig = plt.figure(figsize=(12,6), facecolor='grey')\n",
        "\n",
        "axes1 = fig.add_axes([0, 0, 1, 1])\n",
        "\n",
        "axes1.plot(x,y)"
      ],
      "execution_count": null,
      "outputs": []
    },
    {
      "cell_type": "markdown",
      "metadata": {
        "id": "DR_4gjHZoaZG"
      },
      "source": [
        "## Exporting Figure"
      ]
    },
    {
      "cell_type": "code",
      "metadata": {
        "id": "CgzruiE_kNsN"
      },
      "source": [
        "fig = plt.figure()\n",
        "\n",
        "axes1 = fig.add_axes([0, 0, 1, 1])\n",
        "\n",
        "axes1.plot(x,y)\n",
        "axes1.set_xlabel('X')\n",
        "\n",
        "fig.savefig('figure.png')"
      ],
      "execution_count": null,
      "outputs": []
    },
    {
      "cell_type": "code",
      "metadata": {
        "id": "Dkzlm-mzoBSV"
      },
      "source": [
        "fig = plt.figure()\n",
        "\n",
        "axes1 = fig.add_axes([0, 0, 1, 1])\n",
        "\n",
        "axes1.plot(x,y)\n",
        "axes1.set_xlabel('X')\n",
        "\n",
        "# bbox_inches ='tight' automatically makes sure the bounding box is correct\n",
        "fig.savefig('figure_withbbox.png',bbox_inches='tight')"
      ],
      "execution_count": null,
      "outputs": []
    },
    {
      "cell_type": "markdown",
      "metadata": {
        "id": "KsvZ0cG6rv69"
      },
      "source": [
        "# Subplots"
      ]
    },
    {
      "cell_type": "code",
      "metadata": {
        "id": "lcJ_YnW1oRhI"
      },
      "source": [
        "a = np.arange(11)\n",
        "b = 150*a"
      ],
      "execution_count": null,
      "outputs": []
    },
    {
      "cell_type": "code",
      "metadata": {
        "id": "4o6y-IFCr_s8"
      },
      "source": [
        "a"
      ],
      "execution_count": null,
      "outputs": []
    },
    {
      "cell_type": "code",
      "metadata": {
        "id": "QpNVUNQxsQ3q"
      },
      "source": [
        "b"
      ],
      "execution_count": null,
      "outputs": []
    },
    {
      "cell_type": "markdown",
      "metadata": {
        "id": "4XfgpmrMslnf"
      },
      "source": [
        "##`plt.subplots()`"
      ]
    },
    {
      "cell_type": "code",
      "metadata": {
        "id": "Ol4ywtHMsRKO"
      },
      "source": [
        "# Use similar to plt.figure() except use tuple unpacking to grab fig and axes\n",
        "fig, axes = plt.subplots()\n",
        "\n",
        "# Now use the axes object to add stuff to plot\n",
        "axes.plot(x, y, 'r')\n",
        "axes.set_xlabel('x')\n",
        "axes.set_ylabel('y')\n",
        "axes.set_title('title');"
      ],
      "execution_count": null,
      "outputs": []
    },
    {
      "cell_type": "markdown",
      "metadata": {
        "id": "Tp5HMuqJvGu8"
      },
      "source": [
        "### Adding Rows and Columns"
      ]
    },
    {
      "cell_type": "code",
      "metadata": {
        "id": "Jw3RGQOSu6a3"
      },
      "source": [
        "# Empty canvas of 1 by 2 subplots\n",
        "fig, axes = plt.subplots(nrows=1, ncols=2)"
      ],
      "execution_count": null,
      "outputs": []
    },
    {
      "cell_type": "code",
      "metadata": {
        "id": "hxOvQS-XvQJ1"
      },
      "source": [
        "axes.shape"
      ],
      "execution_count": null,
      "outputs": []
    },
    {
      "cell_type": "code",
      "metadata": {
        "id": "e1UUadFkvXYX"
      },
      "source": [
        "# Empty canvas of 2 by 2 subplots\n",
        "fig, axes = plt.subplots(nrows=2, ncols=2)"
      ],
      "execution_count": null,
      "outputs": []
    },
    {
      "cell_type": "code",
      "metadata": {
        "id": "BQc4Zf8_vaHw"
      },
      "source": [
        "axes.shape"
      ],
      "execution_count": null,
      "outputs": []
    },
    {
      "cell_type": "code",
      "metadata": {
        "id": "IbwKJ6t0vb2i"
      },
      "source": [
        "fig,axes = plt.subplots(nrows=1,ncols=2)\n",
        "\n",
        "axes[0].plot(a,b)\n",
        "axes[1].plot(x,y);"
      ],
      "execution_count": null,
      "outputs": []
    },
    {
      "cell_type": "code",
      "metadata": {
        "id": "kr3nSc4vvleS"
      },
      "source": [
        "# NOTE! This returns 2 dimensional array\n",
        "fig,axes = plt.subplots(nrows=2,ncols=2)\n",
        "\n",
        "axes[0][0].plot(a,b)\n",
        "axes[1][1].plot(x,y)"
      ],
      "execution_count": null,
      "outputs": []
    },
    {
      "cell_type": "markdown",
      "metadata": {
        "id": "VduUplefvyau"
      },
      "source": [
        "Gunakan `plt.tight_layout()` untuk mengatur secara otomatis posisi antar subplots agar tidak ada yang bertabrakan"
      ]
    },
    {
      "cell_type": "code",
      "metadata": {
        "id": "o6BgH9aZvrW0"
      },
      "source": [
        "# NOTE! This returns 2 dimensional array\n",
        "fig,axes = plt.subplots(nrows=2,ncols=2)\n",
        "\n",
        "axes[0][0].plot(a,b)\n",
        "axes[1][1].plot(x,y)  \n",
        "\n",
        "plt.tight_layout() #!"
      ],
      "execution_count": null,
      "outputs": []
    },
    {
      "cell_type": "markdown",
      "metadata": {
        "id": "RF71Cd8AwBsE"
      },
      "source": [
        "### Subplot Parameters"
      ]
    },
    {
      "cell_type": "code",
      "metadata": {
        "id": "k41ftOZpvxVR"
      },
      "source": [
        "fig,axes = plt.subplots(nrows=2,ncols=2,figsize=(12,8))\n",
        "\n",
        "# SET YOUR AXES PARAMETERS FIRST\n",
        "\n",
        "# Parameters at the axes level\n",
        "axes[0][0].plot(a,b)\n",
        "axes[0][0].set_title('0 0 Title')\n",
        "\n",
        "\n",
        "axes[1][1].plot(x,y)\n",
        "axes[1][1].set_title('1 1 Title')\n",
        "axes[1][1].set_xlabel('1 1 X Label')\n",
        "\n",
        "axes[0][1].plot(y,x)\n",
        "axes[1][0].plot(b,a)\n",
        "\n",
        "# THEN SET OVERALL FIGURE PARAMETERS\n",
        "\n",
        "# Parameters at the Figure level\n",
        "fig.suptitle(\"Judul Utama\",fontsize=16)\n",
        "\n",
        "\n",
        "plt.show()"
      ],
      "execution_count": null,
      "outputs": []
    },
    {
      "cell_type": "markdown",
      "metadata": {
        "id": "xJUw63rywpmb"
      },
      "source": [
        "### Exporting Subplots"
      ]
    },
    {
      "cell_type": "code",
      "metadata": {
        "id": "9ekxxLfSwbME"
      },
      "source": [
        "# NOTE! This returns 2 dimensional array\n",
        "fig,axes = plt.subplots(nrows=2,ncols=2,figsize=(12,8))\n",
        "\n",
        "axes[0][0].plot(a,b)\n",
        "axes[1][1].plot(x,y)\n",
        "axes[0][1].plot(y,x)\n",
        "axes[1][0].plot(b,a)\n",
        "\n",
        "fig.savefig('subplots.png',bbox_inches='tight')\n",
        "\n",
        "plt.show()"
      ],
      "execution_count": null,
      "outputs": []
    },
    {
      "cell_type": "markdown",
      "metadata": {
        "id": "1fRi_UXSx1NK"
      },
      "source": [
        "# Styling\n",
        "Setelah kita mengetahui cara-cara sederhana untuk membuat plot, kita harus membuatnya mudah dimengerti oleh pengamat plot dan dapat dengan:\n",
        "\n",
        "*   Memberikan legends pada plot\n",
        "*   Variasi warna\n",
        "*   Variasi linewidth/linetype\n",
        "*   Variasi Marker\n",
        "\n",
        "\n",
        "\n"
      ]
    },
    {
      "cell_type": "markdown",
      "metadata": {
        "id": "Qc5yF08h02pD"
      },
      "source": [
        "## Legends\n",
        "Legends dapat diberikan dengan memberi parameter `label=\"teks legend\"` dan memanggil `.legend()`"
      ]
    },
    {
      "cell_type": "code",
      "metadata": {
        "id": "OIKld0aCwsha"
      },
      "source": [
        "fig = plt.figure()\n",
        "\n",
        "ax = fig.add_axes([0,0,1,1])\n",
        "\n",
        "ax.plot(a, a**2, label=\"x**2\")\n",
        "ax.plot(a, a**3, label=\"x**3\")\n",
        "ax.legend()"
      ],
      "execution_count": null,
      "outputs": []
    },
    {
      "cell_type": "markdown",
      "metadata": {
        "id": "gyIUactU2EDD"
      },
      "source": [
        "Dengan memberi parameter `loc=` kita dapat memilih posisi legendnya"
      ]
    },
    {
      "cell_type": "code",
      "metadata": {
        "id": "jI5qjOLD0-oE"
      },
      "source": [
        "ax.legend(loc=1) # upper right corner\n",
        "ax.legend(loc=2) # upper left corner\n",
        "ax.legend(loc=3) # lower left corner\n",
        "ax.legend(loc=4) # lower right corner\n",
        "ax.legend(loc=0) # let matplotlib decide the optimal location\n",
        "fig"
      ],
      "execution_count": null,
      "outputs": []
    },
    {
      "cell_type": "code",
      "metadata": {
        "id": "Xtih1Ddx1oy_"
      },
      "source": [
        "ax.legend(loc=(1.1,0.5)) # manually set location\n",
        "fig"
      ],
      "execution_count": null,
      "outputs": []
    },
    {
      "cell_type": "markdown",
      "metadata": {
        "id": "xr8Zg6g_zYJe"
      },
      "source": [
        "## Colors\n",
        "Warna dari plot dapat diatur dengan parameter `color=`"
      ]
    },
    {
      "cell_type": "markdown",
      "metadata": {
        "id": "jcd1UD7y34cL"
      },
      "source": [
        "![Screenshot 2021-10-13 203714.png](data:image/png;base64,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)"
      ]
    },
    {
      "cell_type": "markdown",
      "metadata": {
        "id": "z0A_eJHj7bP-"
      },
      "source": [
        "https://www.color-hex.com/"
      ]
    },
    {
      "cell_type": "code",
      "metadata": {
        "id": "BI_bv3hB2SLF"
      },
      "source": [
        "fig, ax = plt.subplots()\n",
        "\n",
        "ax.plot(a, a+1, color=\"blue\", alpha=0.5) # half-transparant\n",
        "ax.plot(a, a+2, color=\"#ffd700\")        # RGB hex code\n",
        "ax.plot(a, a+3, color=\"#ff0e0e\")        # RGB hex code \n",
        "ax.plot(a, a+4, color=\"green\") "
      ],
      "execution_count": null,
      "outputs": []
    },
    {
      "cell_type": "markdown",
      "metadata": {
        "id": "gXSbvGJC1hVx"
      },
      "source": [
        "## Linewidth\n",
        "Lebar dari garis plot dapat diatur dengan parameter `linewidth`"
      ]
    },
    {
      "cell_type": "code",
      "metadata": {
        "id": "2PLJfxZh1FSL"
      },
      "source": [
        "fig, ax = plt.subplots(figsize=(12,6))\n",
        "\n",
        "# Use linewidth or lw\n",
        "ax.plot(a, a-1, color=\"blue\", linewidth=0.5)\n",
        "ax.plot(a, a-2, color=\"green\", lw=2)\n",
        "ax.plot(a, a-3, color=\"orange\", lw=5)\n",
        "ax.plot(a, a-4, color=\"red\", lw=10)"
      ],
      "execution_count": null,
      "outputs": []
    },
    {
      "cell_type": "markdown",
      "metadata": {
        "id": "A6CeH5iX2CuV"
      },
      "source": [
        "## Linestyle\n",
        "Model dari garis plot dapat diatur dengan parameter `linestyle`"
      ]
    },
    {
      "cell_type": "markdown",
      "metadata": {
        "id": "K-lriXRI3dYA"
      },
      "source": [
        "![Screenshot 2021-10-13 203535.png](data:image/png;base64,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)"
      ]
    },
    {
      "cell_type": "code",
      "metadata": {
        "id": "PC_P-mWw1yPj"
      },
      "source": [
        "fig, ax = plt.subplots(figsize=(12,6))\n",
        "\n",
        "ax.plot(a, a-1, color=\"blue\", lw=3, linestyle='-') \n",
        "ax.plot(a, a-2, color=\"green\", lw=3, ls='--') \n",
        "ax.plot(a, a-3, color=\"orange\", lw=3, ls=':') \n",
        "ax.plot(a, a-4, color=\"red\", lw=3, ls='-.') \n",
        "ax.plot(a, a-7, color=\"purple\", lw=3, ls='steps') "
      ],
      "execution_count": null,
      "outputs": []
    },
    {
      "cell_type": "markdown",
      "metadata": {
        "id": "J1P44X7K4FK9"
      },
      "source": [
        "## Markers\n",
        "Titik penanda pada plot/markers dapat diatur dengan parameter `marker`"
      ]
    },
    {
      "cell_type": "markdown",
      "metadata": {
        "id": "_SFs-t344_1Y"
      },
      "source": [
        "![Screenshot 2021-10-13 204252.png](data:image/png;base64,iVBORw0KGgoAAAANSUhEUgAAAnwAAAL6CAYAAACsBIuTAAAAAXNSR0IArs4c6QAAAARnQU1BAACxjwv8YQUAAAAJcEhZcwAAEnQAABJ0Ad5mH3gAAKBTSURBVHhe7f0PgCtnXS/+vze7519PT/9igZqyhEIAixHcFCIrsogYriJGXYjoohIkemVF8N61+V6/vxX3d70E94qiUTDgonTVRlZZuaDmArIIS4PNAgZLIdCm2w4tlP5vT8+/3ez3+Twzk0z+7m5OzjmTyfu1nWYy88xksufkOe/neWYyIzsKiIiIiMizfNYjEREREXkUAx8RERGRxzHwEREREXkcAx8RERGRxzHwEREREXkcAx8RERGRxzHwEREREXkcAx8RERGRxzHwEREREXlc1zttvPOd77TmiIiIiMjNbrjhBmuuVdfA98gjj1hzRERERORml156qTXXikO6RERERB7HwEdERETkcQx8RERERB7HwEdERETkcRcm8BXfjZe/5cO4x3pKRANKPssvfzeK1tNd3fNhvOXlb8GHz8mHv4h3v/zlePeeD2aP9njMxXdbv4dz+h6JiHrDHj4iom6u/in88Sf/GD91tfW8HRV8b/iINb+X8kRE59m+A989H36LatG/3JpUK/bD0sKXeWfr1l7f2OJ9y1scyzRni/wefFivV5Pd+9dxOyI6O+Znr/45NT9/b7G6pYrvNud3/bxrt+ODzZ9dRfZR27bv3W42R73x8htgZ6629UnLexbO7a1lzfWOs8dO92ja69Sk96328UF55Y/ghubyehN7/2qyfw9t90NEdO701sN33Sxu/OQn8c5X34rMXZP45CffiVerym5d6jLduv2kWnYjZq+zlmm34tpfkOW/gbC15J4PfxC3z96I31AL7vlwGplr36nWq/1em0G6Nh7Suh0RnaXiuvrEvhrvVJ/TG2+Uz9bVeNHLrsOtn/q8Ch5FrH/kOrzsRVYXVbfPu+VlKfmMquW3ZvAhWa57vGT/1vKP3FALk31V/BAyt1qvc+MsrrMWt61PWt6zVQ72+/sIPrjHeqfx/V6Nn/qFV6ulsu+m8rv8Hlp+b0RE58hZD+le9zT5R+FqPM2uaWst5terithapL0akw014afwQUeBe+5S86oylNauDI3cepddKTZvR0RnLTypQ9sN6nP6+tebvexX/9QvqODxKXz+wyoYXfcy2HnPqfXzLq7FNbpsGJMq99x+9z245+7b1Ud30go/5vL6Z7p/Gl7n6mvUkZja1idt3rMud+016h2p1b/xSfxxbRy2W73T+n476f57sPdDRHTu9f0cvuK7X49PvexG1WqVHj5rYVsvQ0q1yJFJ66GPq+VfkFebLXI9SbcfEZ0jYfyG9Vl7Zy20SCC5FZ/61O247mUv0iFob26HmXmkZ1Dy09Uqe6no9ZF1a9jUXG6Gxf5qeJ177lZHYmpfn7S+Z13u9rv1cKoeet3T0HPr+1U7qvUuOp2v3wMR0W76HvjCqgl7a+b1qmWdxqfU826tXxn+/QUZJvpQ0exdsFrk+lyhLpsR0dmqn892g2P4Vn9+b1XNsXbde118Ki37ugEfuW4Wr9HZ6jf0EOkN+jXUchW+6r1nfRR+jT51RL/O6zOwxwza1yet7/nqn0phFhm8Xi97Nd65x4Zm7f2q96U30b2L1jl8ZhHT+fo9EBHtgvfSJaI6uZjgg0/DjX/8U/vo4Rsi8vu5Aa3n6hERuQDvpUtEu9JX5N7wkX0O5xIR0SBgDx8RERGRB7CHj4iIiGiIMfAREREReRwDHxEREZHHdT2H753vfKc1R0RERERudsMNN1hzrboGPiIiIiIafBzSJSIiIvI4Bj4iIiIij2PgIyLImR322R1V9bhd3UFVTfYynvlBRDTYeA4fEdVI2PONjFjPzOfybEQtk6pCHomIaPCwh4+Iaj18EvYeP7WF0t0P4+4Hn7DCnwfCXiGNRM6wnrRhGOiyloho4PUQ+AzkEgnkjALS4TQK1tJWey1HRBeainv68evffhSvfe/n8Io//DR+5A/W8NeFO1XQaxzyHUiRFJbifutJM1VHza9b80RE3tRjD18Q41J3hgLoVIWa9lqOiC6katUctv3Dj38dn/3G/Th2+AAeP7WN3/3oV/DtR07onj4Z3nUd6blLqykcRrjWsJTGpjxXUyJn9tzZPXzqUS93lDdyWayUFhFLs1lKRN7VQ+DzI76UQkT9pJbiXYLcXssRkRsNSn9eqRzAQrGIYgbIqlBn5OaRj66iqJatRvOYbx7Knc6Y6+bKWFMZzx9PYjo0h9VUxCpAROQ9PIePiOBTNYEM2b7tFc/CDz7zSXjs5BkcOzyK33nVdXjypUdaLuZwk1B00mxQ+gNARQW+ChCdNJuY/smoXuYUCrD5SUTDh4GPiDCir8UFnvXkS/B3v/pifPw3X4pP/rcp/HxkXAVBc7jXrRdtlOxAJ0lPhTnJffl1c5mxntfLiIiGXf8Cnz43Ri7SsJ4T0cCwA5305F18aAwh/2XwX36Rdd6eeYWuWy/aCJWz5jl5s0AyrgJffAHRfEwvi+WjWOh4sYbNjwB4Dh8ReRu/h4+IamHODn3yVPrzpFPPDnvy6DpyMcbmTJcrcImISHBIl4h0mLMDnZyrN+obgU9N9jJXhj0iItoz9vAREREReRx7+IiIiIg8joGPiIiIyOO6DulubGxYc0RERETkZhMTE9ZcK57DR0RERORxHNIlIiIi8jgGPiIiIiKPY+AjIiIi8jgGPiIiIiKPY+Ajohr7Gq6tarU2P3DXdcnt1vZzU+/9liciGkA9BD4DuUQCOaOAdDiNzrcb32s5InIL+xZqYz7f4N5WLZLivXWJiJr02MMXxLjUp6EAulerey1HRG6wXa3qx7/fMPDA46f0vKt7+KR3Lq2mcBhhu2Fp9dgV0mpZ2mxq1uelASpl1ZTIqWYpEdFw4PfwEVFNVVUHvpERfOO+x+C//CIcPjCqA59re/lUuAtnA1hdisMvQW9zBkvjy+Zj3K+D3hqmsYIpFFMRGLkElseXoGbNYNhUnojIq3gOHxHVSNgTz7zqmA57wu1DuqHopDmC4A8AlcY+u8jMHMorZczNSMIDjEoJK7NWD9/sCkpN5YmIvIqBj4hq7A5/6emz590+CFALbUYFCDh76Qzk5vOIZqLIz5vDt/5ACNOZIopFa9JdfURE3te/wGfkkAjLRRrWcyIaOHZvnvT0DcpFG6Fy1uqxA5K1YdlvIZeIIR9dQDwSx0I0j1giB8STgN3DpyZenUtEw6KP5/DJVbkxVJJF8/wYIqJzzT4Pj+ffERF11acePjPsLQYzDHtERERELsOrdImIiIg8jhdtEBEREXkcAx8RERGRxzHwEREREXlc13P4NjY2rDkiIiIicrOJiQlrrhUv2iAiIiLyOA7pEhEREXkcAx/RkLM7+eVxu7qjb6vW9rn+PxERDSIO6RINMfn4y63T5FEqArmlWjvOcsLtt1sjIqJGDHxEQ06HPVUL+Hwj+A/jIfzDxjdx6z2P4Mqjh/BfvvcpeOXznorDB0ZRrVZVGV8t/BER0eBg4CMaYmbY29FB7m//fRNzHyrh5JltHBzzqYAHPHFmC/HwNfjfr30+jh0e09uMyI+b895e76/L+/AS0RDp4Rw+uW9uAjmjgHQ4jYK1tNVeyxHRhaLDnkpv37jvMaT+/ssqygGXHjmIQ2OjOHJoFFcdO4y/+fxd+IvP3qHLVavSPnR5GzGSYogjImrS40UbQYxLfRoKoHu1utdyRHQh7OyoiKeC3OoXv6l79g6M+rBVrepIJ9lOAt4lRw4g/5/fwsNPnMaYWu+uQQFpWIYRDstkNSyl5y5nmI+q0Wkub1OuRhql1rpETpUkIvKeHgKfH/GlFCLqJ7UUt4Kco8KsVabtyhGRm8jQrAS42+97XJ+XJ1HPPj9P/i9X6EoIvPeRk3jo+GldVodEtygsIx9dRbFYRDEDzKYbo1wpmFTrVD3UpZyRywIZtVzWJSuYl7BIROQxfflaloYKs02lS0TuJJ11EvCuvepiHeZ8KubZPXjyfxnGPbNdxVMvPYzLjx7UZUdG3NPDZ2yWEdTDCEokhWIqYs5bQgFzXbdyRqWElVmrwTq7glKFgY+IvOecfA+fXckSkbvp8KYCXuwF340jB0ZxWoW7MZ/EPgl7alL/e/TEGbzyeU/BZRcdxJZa76YrdP3jQZQ3rYBm5JDoMCTbrZw/EMK03WCVqSk0EhF5QV8Cnz+eBGotZCDJE6aJBoIexlWB75lXHUP6Z75XL3vkxGmc2trGiVPb+M6jJ/FzL3oa3viDz9DlJACag70uEUkhWYmZdU8sj+hCh9NHupRrqL/UpM//IyLyGH4tC9GQM8/LM3vzSsZD+HvH9/D92Pc+BVF+Dx8R0cBj4CMaYnZ406FPPeedNoiIvImBj2jIOcOcfBWLZDkJfvZzGcXV61VZxjwiosHEwEdERETkcefkKl0iIiIicg8GPiIiIiKP6zqku7GxYc0RERERkZtNTExYc614Dh8RERGRx3FIl4iIiMjjGPiIiIiIPI5DukRDyv7oy3fsfeO+x3D/Y6fha9MElGIHRn147lOP6TtuyFadvqCZiIjciYGPaEjJrdLs8PbT71nH2lfvx0WHVKBrqhHkHhwS7z7+tpfiuu++FNvbVYyqAEhERIODtTbRkDJvjzaiH9/4g8/A4YM+HFJB7uBYfTpycBRntqp41fddjeBTjumQ6LrOPcOAYc3WFNJI5FqW7s9Z7MPIJZAuWE+IiFygh8BnIJdIIGcUkA6n0blO22s5IroQJOjJDdOqOzv4L897Cn74OVfh0VNn9K3UdC+f+t9pFfYuP3oQv/bSa/WwrnnrNTclPlW/zK9b8w6RFJbifusJERH12MMXxLjUpaEAulepey1HROebnM0h4a2qUtyoz4c3Tz0Txw6NYUs9Hxkx1504s42f+f7vxvOfdjm2q1VVzuwRdAsjl8VKaREx6U6THjnVyAxLA9PunTNySITDaplM0gBVG6l15nOZ7MaoNEzNMul0c++cvU5NiVxrb2JNvdx83lqkG77ObeW5+ZrSC2j2IKrtZF3b4yIi6o8eAp8f8aUUIuontRTXQa5h+KI2DNJajojcQ/fwqcmnQty2Cnk/cO2V+PHvfSpOnN7S5/VtqYD31EsP4c0ve6YVDs1t3HTarz+exHRoDqupiH5eCiZRLEq9Y5vEQrGolhWxOgdU7LQ2nbGWlbGm6i4JjshIuQUEyiWrkKm+Tk3JCuY7DPM6yyWD5j6M3Dzy0VXztaJ5ta06oiiwqXZhqAZxsLIOw9gEopNmHdl0XERE/dKXc/ik0rVrp8IakORQCtFAkPAmlYAM7Uqie8uPBHHFRQf1uidOb+ONkwFcc8VRbEvIk/+sXkG3CgWa6h71dN3qYYst1oNcczmjApiL/CqQhfQym1EpYWXW6nmbXUGplhob1feh9hIw9yHLopPmQr8kPbWtfxzIrxewiSn1U1GBTxXSQyFtjp+IqE/6Evig2tNTWENB/WwGZhytayJyM91jpyaJcDK0G3zyMfzii5+Obz58As+7+hL8fGRcn+Mn6+0ewUFSSM8DC2avW2baWtiGP1Dv/ZOA5yThbdru4ZPJ6k1s1m4fsiy/bi401vNmIoxMIZjPqqjn1+uzWWCKlSYRnWN9CnyqDpsJIBtWNZfVmiWiASG9dzrI7egePAl8LwpcgcRkAN917LDZC+jasOdHANY5fG1EpoJYjJm9c2uYRlnGUtvQoxRWL1623NjD51wnU6crd9vtwx9fQDQf08ti+SgW9OiHaiDLkO+4CnzjQEm9A9aaRHSu8Xv4iEizqwIJdsdPbeHIgVEzB1rLZP2g9fDtlZyHvDy+BOm8K6RVOJwq6nkiIq9g4COihjDXLth5OeyZ5ArbWazIrFwE0u1CM7nyN7aIxoHfEOZWl8DTl4nIrRj4iIiIiDyub+fwEREREZE7MfAREREReRwDHxEREZHHdT2Hb2Njw5ojIiIiIjebmJiw5lrxog0iIiIij+OQLhHpr12xm37mvDmZz81lREQ0uNjDR0QWM/Q5v29Pqodu389HRESDgT18RKTD3HbVnH/4idP4xaXP45+/fK8OeNvVKnv4iIgGHAMf0ZCTMGcGOrMH72Ole/HXn78Lf/HZO3DqzDZG1I9e79bePcNAy91tC+mO97zds37sg4jIJXoIfAZyiQRyhtyKKI3aLcvldkPO553KEZFrSJDTw7Rq8qnpsZNnkP232/GUSw7j5jsewCe+8m34fCOo6jxYP6/PPVT9Mr9uzTtEUljifc6IiGp67OELYlzq0lCgdr/JwnIFydUAsmlntGstR0TuIWHP7uGT+dy/34Xb7n0Mhw74cGZ7B+9fr+hePgl9qpQZDl3EyGWxUlpETOod6ZFTjcywNDDt3jndEA2rZTJJA1RtpNaZz2WyG6PSMDXLpNNqamih2uvUlMi19ibaHD2CRs7ahyxLq6nhtYiIzr8eAp8f8aUUIuonZd9gXFVq2cAMIv44FgJZq7JsU46IXEWCXtUKew88fgo3FjbNHr3qDo4eHMPnvnE//u9XvqV7/6Rzzw6HbuGPJzEdmsNqKqKfl4JJFItS79gmsVAsqmVFrM4BFTutTWesZWWsqfpKgiMyUm4BgXLJKmSqr1NTsoL5fQ7zlsoB8xgyQJZDxER0gfTnHD7H8Ik/vgSr7iUiF9PBTQc4VRGoQPcPXzBw6z2P4qKDoyoEmgFPguCff/oOnLTP5VPbua2XzykUaGpaqqfrCbN3LrZYD3LN5YwKYC7yYzIa0stsRqWElVmrh292BaVaatybUHTSbPD6A47ESUR0fvGiDaIhJcFtR02jvhF9Ze5ffu5OPZRrBj0pABw5MIovbD6Ej5XuqfX8uamHbzeF9DywYPbOZaathW04s5gEPCd/IIRpu4dPpj20aJ37qAXEeqokIjrvGPiIhpQ5PGsGv79SYU/O3Rsb8eFMtYptFexkkuHeU9tVvO+zFTxy4owOh+4KfH4EYJ3D10ZkKojFmNk7t4ZplDfb97DJ0DCsXrxsubGHz7lOpo5X7kamEFyMtewjVM6a284CSV5IQkQXCL94mWhIVVWwExL4Xve+m/H5Ox7CkYOjOgQ6SW/ftgp9f/9rL8bzvvsyPT866q22olxksTxuno5SSKtwOFXsz6kpctHG5gyvGCaiC46Bj2iIycdfAp8M6T7yxBmM+FrPz5MyB1XAu+rYIT2sK9x8Hl9v5ErcWazIrFwE0u1CM7nyN7aIxoHfEOZWl9CS6xj4iMglGPiIiIiIPI7n8BERERF5HAMfERERkccx8BERERF5XNdz+DY2Nqw5IiIiInKziYkJa64VL9ogIiIi8jgO6RIRERF5HAMfEdVIh7+z01/utCG3UyMiosHGwEdEtaAnX6gsk8yf2a7Cp+bly5a3trd1+LPLEhHRYGHgIxpizqAHjOjePJnk+YFRH+59+ATes/YNvDj9r/hM+X69DXv8iIgGDwMf0RCze/Sk9267WtW9eTJ957GT+KOPfw0/857PYf4fb8Vt9z6GB4+fsreyHl3CMGBYszVyS7Ncy9L92e8+disvt2QLh+tl2h03EdE50kPgM5BLJJAz5N6TaRSspa32Wo6ILhS7h0+GbsdGffjmwyfwLhX0fuzdn8H//KfbULn/OC47cgCHxnwYrd1HVz+4hKpf5teteYdIynX3rzXW8whmitZxdThuIqJzpMceviDGpc4KBZpuMN4c7jqVIyI30IFPPd6pgt27/u/XEPvTz+L3PnYb7nnkJI4dOoDDB0exVa2ahV3IyGWxUlpELK1qHelhU43MsNRBdm+b1asW1pM0QNVGap35XCa7vpK6yyyTTqupoYVqr1NTIreHXrk25dVxzC+WsDJrHkPDcRMRnQc9BD4/4kspRNRPaileD3K6Yl3DVFHWiQ7liMg1djCie/f++F+/jv/2d1/C3Q88gSuOHsTBUZ8Ogvb5fG49a88fT2I6NIfVlFnrlIJJFGt1kJjEQrGolhWxOgdU7LQ2nbGWlbGmMpcEMGSk3AIC5ZJVyFRfp6ZkBfPdhm2VtuX9cSzMhdTLLkE6+JqPm4joXOvPOXzSYp6HqlidFS0RuZ1EOTl/7y0//Cz8wWufj2uuvAgPHj+N09tVfaaenM+nL+owi7teKNDUtFRP1xNmb1tssR7kmssZFcBc5MdkNKSX2YyK9MxZPXazKyjVUmN7+y1PRHQ+9CfwRVJQDWPM81w9ooGiL9pQj09/0lH85o8+G6tv/kH89o8/F1dfehiPnTqDk6e3MebrTzVxIRTSuiWqe9sy09bCNvyBeu+fBDYnf0B65qweO5l26ZXbb3kiovOhfzW5P46l4hTWGPqIBobzKt2t7Sq++7Ij+M1XPBv/9Bsvwf/7Y89FQAXBh0+cwamtKratr2NRRV3EjwA6nwsXmQpiMWb2tq1hGuXN9r1tMsQKq1cuW27s4XOuk2m3K3f3Vr77cRMR9RvvpUs0xOyPvz5PT83az2UoV8j38K1+6Zv4wHoF//s1z8cPBb8L2yoYjo4Obq9fO0YugeXxJUhnXCGtwuFUUc8TEXkFAx8RNQQ/Ic+3qjv6y5eF3GnD5/PpCzxknV3OO+TK2lmsyKxcTNHtQjO5QC22iMaB3xDmVs0LMoiI3IiBj4hqmoOfvp2a+s/u8SMiosHEwEdERETkcd46EYeIiIiIWjDwEREREXlc1yHdjY0Na46IiIiI3GxiYsKaa8Vz+IiIiIg8jkO6RERERB7HwEc05OxOfnmUu2nUnlvLiIho8HFIl2hI2R99+c69M9vbODA6qp9Xq1UV9kYwKt/Fp/5zVhHe+8JlIqLhwMBHNKTsj/7prSpe974Crrz4IGZf9kx83zWX6+XbKvhJ4pPvXJag5wyIREQ0WDikSzSkJMBJeDtxegt3P/QEbvr3u/HTf/Y5zP7NBgp3PIBRn09NZriTod4R+XEEP9cwDBjWbE0hjUSuZen+nM0+um3baV2790FE1Cc9BD4DuUQCOUPuPZlGwVraaq/liOhCsMObPMo9cy85PKaD3d+q4Pdz7yvgTR+8BbdUHtDrJfjtyI9V3j1U/TK/bs07RFJYupA3tt3363d4H0REfdJjD18Q41KXhQLWDcY7hbrmckTkJs7wpnvx1PNLjxzE1vYO/vGL92D6vTfj1/56A5/+2n3mfXUVN/XwGbksVkqLiKVV7SM9Z6qRGZa6yO5FM3JIhMNqmUzSAFUbqXXmc5nsekvqMLNMOq2mhsrMXqemRK5zL1y71++038qydVzm6ze8DyKic6CHwOdHfCmFiPpJLcWtIKfmi1NYUxVYvb5qV46I3MoOfxLspEfv2JED8Kllf/7p2/Hmv/kCvv3oSV3GDn5u4I8nMR2aw2oqop+XgkkUi1Lv2CaxUCyqZUWszqmcZae16Yy1rIw1VWdJ4EJGyi0gUC5ZhUz1dWpKVjDfaahWaX79TvstlQP6uOzXb34fRET91sdz+CT0FTG15gx9RDQo7J47CXnS2/fYiTM63P3KS6/Fn/7c9+PJlxzWZWS9W4UCTU1L9XQ9YfbOxRbrgau5nFEBzEV+TEZDepnNqJSwMmv18M2uoFRLja32ut9QdJKNYCI6r/oY+OScvTDWpopgI5VoMDiHZ/V5eur5IydOY2x0BD/5gqux8qs/gD/7+Qm89NlX1YKeu87h666QngcWzN65zLS1sA1/oN77JwHPyR8IYdru4ZNpHxVct/0SEZ1PfQp8cp6KWbEy7BENBgl3Et7k8cx2FY+e3NKh73UvvAZ/86YI3vcL1+P6wJV6vXuv0vUjgM7nvkWmgliMmb1za5hGebN975wMqcLqxcuWG3v4nOtk2s+Vu93226j7+yAiOlv8Hj6iIWV/9E+rsPdz2QKuGOLv4TNyCSyPL+kGayHdv5GKc7VfIqL9YuAjGlLOAMc7bcgoxSxWZFYunuh2oZlc+RtbROMAbQhzq0to/SaWfeyXiOgcYuAjGnJSBdg9eFVVG9R69MyVHg55RETDg4GPiIiIyOP6eJUuEREREbkRAx8RERGRx3Ud0t3Y2LDmiIiIiMjNJiYmrLlWPIePiIiIyOM4pEtERETkcQx8RERERB7HwEc05OyzOuSxqiZ5tE/0sJfZ80RENJh4Dh8R6TBnf8Gy3DdXvnxZKgaftcy5noiIBg97+IiGXFUFPAlzj544g289cgKjkvYUCXsnz2zjnoee0Ovtnj7XMQwY1mxNIY1ErmVpC7nXbbpgPSEi8rAeAp+BXCKBnCH3iEzDriul4gyHZbm1oEM5InIX6b2TKPetR0/gjX9VxPv/7Q4d8P7j7ofwmvd+Dh/78r2qjFuHdFX9Mr9uzTtEUlhqvbEtEdHQ6rGHL4hxqUtDAfNG4Ko1PY8FZKbliVNTOSJyHZ/PvI/us646hv89HcInbvs2XvGuT+M3c/+Bn73+afilyYBebw/vuomRy2KltIiYdNNJr55qZIalgdm1h08aoWFVLoz5vLVIN1DNZeFETj2T52ZDVRqz5r7UdrJO7VuX0xMbs0Q0GHoIfH7El1KIqJ/UUtwMcm1b023KEZHrSG+eRDkJdc+9+lIs//ILcXqrire9Ioifj4xjTAVCyXpuPIfPH09iOjSH1VREPy8FkygWpd7pTEIiMkVVrohksGQtm0c+uqqXrUbzmM8Bk1FgU+U8QzVcg5V1GMYmEJ0067LpjFl2row1Jj4iGgA8h49oyEnQ06FP5bntahVjoz6MP+kiXHXskL6AQ87dk/XuHNJtFArs3rQ0KoBdzB8I6UdZFp00F/ol6VUM+MeB/HoBm5hSPxUV+FQhPWSxt9chInITBj6iIWeHuZ2dEV0hyLxcwCEXbJgXcJjr3djD1wt/QOc5zaiYPXyyLL9uLjTW82YijEwhmM+qqOfX67NZYKpb1yERkYv1J/AZOSTCYcyulLAYC/OqN6IBY4Y5FfrUo8x9/9MuxxUXHzTXqeXuDXt+BGCdw7dHMgyMWfMcvGzZ7OHzxxcQzcf0slg+igV9ikoEUzLkO64C3zhQUq/Efj0iGlT8Hj4i0nRVIIFPPW6rSS7SsHv/vNK7R0Q0rBj4iKjOCn2eICMPsUWYg7a2EOZWl8BvbCGiYcPAR0RERORxvGiDiIiIyOMY+IiIiIg8joGPiIiIyOO6nsO3sbFhzRERERGRm01MTFhzrXjRBhEREZHHcUiXiOqs9p+0A+22IFuERESDj4GPiDQd8uQ7+NSjfNGy/WXL8kXMREQ02Bj4iKjOCnfv/8ztuP2+x/R8Vf+fiIgGGQMfEWm1YdyRHXy0dC/uefhkbbmrGQYMa7amkEYi17KUiGho9RD4DOQSCeSMAtLhNMxblssy82bk4dpNzNuVIyI3klBnD+FWVb47cmAUPj26ay6vhUHXUfXL/Lo17xBJYYn3TyMiqumxhy+IcalLQwHoKtVQFW6yiGJxFXPlrAp5slA0lSMi13GGOgl7vhEfRlXau+jgmF5eVQvl0Q6EbmLkslgpLSImDU3p1VONzLA0MLv18DnWGbkEdBtVlqXVJI1WNlCJyIN6CHx+xJdSiKif1FLcDHL+OOIRvVKxQl67ckTkOjrUWaFvbNSHf/7Pe/Hp8v34y8/dia3tql4moc+NPXz+eBLToTmspswKqBRMqoan1Dv7VyoHsFBUDdcMkOVwMBF5TF/P4Suk54GF3ipbIrow7CB3/NQW/tfHvoL0P30Vv/vq6/Tz1773Ztz6zUf0encO6TYKBXpvWoaik1YDNgBUGPiIyFv6FvgK6TDWppbA02aIBov03vlGRnDXg0/gmw+fwI1vfCESPxjA+38pjMi1V+Jzt98Pn2/Ek9/HZ1RK1hxQskOeUQHOIjgSEblRfwJfIY3ZFWBl1rxwg1fHEQ0OHeZ2dvDcp16CP/35CTztyqM4syVfxjKC33rlc/CmH7pWr5dQ6D5+BGCdw7dXkSkEF2O6rsqWQ9ZCIFTOmheezQJJtlyJyGN4azUiqpHqQCoECXfOec+TizY2Z3hlLxF5Vl/P4SOiwWO3+exHiXcyr6/MdSy3HweGkbOuunVO8lVR1noioiHCHj4iIiIij2MPHxEREZHHMfAREREReRwDHxEREZHHdT2Hb2Njw5ojIiIiIjebmJiw5lrxog0iIiIij+OQLhEREZHHMfAREREReRwDHxHVyBke9lke8rhdbXxORESDiefwEVGNVAdyhw370db8nIiIBgt7+IiGmN3ek0d7vlrdgfoPW9tVfPK2b+PxU2dqIdCVDAMtd0uTe+N2uodat3XCuiVbrUy7/RMRDZgeAp+BXELuR1lAOpxGQS+TeetelYmcVTm2K0dEbmL32smjPfl8IxhV0/s/ewfe/YmyqiRGVACsB0J3UfXL/Lo17xBJYSnut57sj7GeRzBTtLbvsH8iogHTYw9fEONSF4YCMKvUCFLFIopqygQrjtZwczkichM7xD1+8gy+9cgJ3PvwCTx0/DTy/3kv/qZwF35/+vtw0aExXc4Oh25i5LJYKS0illZNSum5U43MsDQwd+vF09o0VI0c5hdLWJmVxmrT/omIBljfzuEzcgnEVEUZmlvtuWVNROdXtVqFz+fD391yFz7wuTtxcNSHwwdGUbjjAbw2fA0WX/N9+sKNUcl6Lgx8OrQlNjGzFIdfhbzw2hSKqYgZ/jZn2tdF1roFzGN5fAlS3Fle6rLacuf+5SkR0YDq2zl8/viS7uFLVmJgY5hoMNi9dj/2vU/FB37perx3ZkJP2ddP6NB3272P6OHdbdcO6TYKBfYey4yK9ORZPXyzKyhVdusRJCIaXH2/aMMfCFlzROR2duC7+PABPOXSI3jqZUdw+dGDiD7vqZh50ThuWPkynnD7RRs9krpqOmOeiqIns0uPiMiT+hP4ZCjFOhcmVklaQyFE5HZ2iJNHe5KrdGUY940vCeA3fuRZkBI+FfjceA6fim0IoLdz7PzxJGD38Kmp/Tl/ve+fiMhN+D18RFQj1YHdm+cMeM3PiYhosDDwEVGNXR3YoU++j8+ncl67EOh68n16sUWUrKemEOZWl8Dryoho2DDwEREREXlc3y/aICIiIiJ3YeAjIiIi8jgGPiIiIiKP63oO38bGhjVHRERERG42MTFhzbXiRRtEREREHschXSIiIiKPY+AjIiIi8jgGPqIhJ2d12Gd2yG3Vqta8czkREQ02nsNHRC2kWrDvriF4WzUiosHGHj6iISehTnr15PFzt9+PO+8/rgPettxXzSLr7PBnP7qGYcCwZmsKaSRyLUtbdSvXaV271yMicrkeAp+BXCKBnFFAOpxGwVoqCukwwomcVRl2LkdE7iIhTkLeFzcfwltv+iK2qlWM+kb0Muck7Ed3UPXL/Lo17xBJYWkvN8zda7maDq9HRORyPfbwBTEudWQogFpVqVrD2cAcpq2npjbliMhVJMD51CTn7/3ay56J7zp2CP/jH76Mbz9yAt9S070Pn8CDj59S66u6vJt6+IxcFiulRcTSqkkpPXKqkRmWBuZuPXct5aRhqhqs4QTSaTXZLdTKMhJ6udlobXg9IqIB0kPg8yO+lEJE/aSW4laQM6DqQSTj4/qZqV05InIbO8DJsK6Evzer0PfBm+/Em27cwJv/5gtI/OUt+F//dBueOL2ty7kp8PnjSUyH5rCaiujnpWASxaLUO901l5Mgh0xRLVtAoFyylqpy5QAWikWszpWxpjJe8+sREQ2KvpzDZ+TmUUnuXskSkfvYQ7TSyydhLvOpb+AXf+DpeN/rw/jTn/t+LP3S9fgfP/ZcXHRwVJdz15Buo1Bgb03L5nJGBTAX+TEZDellIhSdZGOViDyhD4HPwHq+hJVZGfaYNYc7aufxEZHbSciT3j2fbwR/psLe/Y+fwv/66e/Fky89jKdcegRPvewIrrj4kFpvVhduDny98geAilVpGZV6Dx8RkVf0IfDJ0K0MhciUMYc7OIRLNFAkxEnwe8H45Xh3/AUYVeFOrtKVZc5J2I/u4EcAZ39OnQzVQjdaw8iW6z18rfrzekRE5xu/h4+IWki1YIdA4cVePScjl8Dy+BLk1Dz5toG1qaKeJyLyCgY+oiHnDHVypS5UtrPP57OXDyQjh0RsEY0DtCHMrS6h9ZtY5CrdWazILEcpiMiDGPiIiIiIPK4vV+kSERERkXsx8BERERF5HAMfERERkcd1PYdvY2PDmiMiIiIiN5uYmLDmWvGiDSIiIiKP45AuERERkcexh4+IIJWAfNuefA9fc4XgUyvsL2H2+hcwExF5FQMf0RCrhTj1WFXP5QuXm8l9dmUpQx8R0eBi4CMaclIFSM/e6KgPX/vWo7jx5k2MqlB3cmsb4adfgdeEr5FSkgkZ+oiIBhQDH9EQk4+/1AA+3wj+vfIAZv/mi7j1nkdxUIW/7Z0qDh8Yxf/4sedi9oefCR9GVNAzQ99AMgwYfj9vmUZEQ6mHizYM5BIJ5Ay592QaBb1M5sMI68le1q4cEbmJBD4Je1+/7zEk/vIWbD5wHFdfehhXXHwQVx07jIsOjuHtH7kVf/7pO3Q5fY7fQLYRVT00v27NExENnx6v0g1iXJrJoYDZWi6soTy3imKxiMz0CtZq6a6pHBG5yo41RGs89AS+/egpHD00htPbVWyrYHdGPY7KFRuKDPVKOXtI1z2kYWk1NhM59axpmdXYNHJZrJQWEUurZ0YOiVoDVRqlso3daE0gnVaTrsPa7LuQtraTiQ1ZIhocPQQ+P+JLKUTUT2opbga5SAoLmNeV4NpUEalIh3JERH1k5OaRj5qNzdVoHvOS3grLtWXFDDCr0ps/nsR0aA6runKaxIKsk23mgIraRAIhMrJsAYFyqfO+xXTG2rbsaNwSEblbf76HT7V6Y5WkqgRXEciGrdYxEbndiNVr57/8Ijz5kkM4fmpLn78nPXsH5Dy+qtmb9+ynXFLr3XPTOXxGBYhOms1J/2RUpzdjs4ygHlpQVGO0aLZA69SqdavnLrZohTu1n4DexI/JaKi2rHnfImQWJCIaKH0JfFLBTk9JpWpWluVNqyVMRK4m4U3Oy3vWVcew9EvXY/zKo7jnkZN48PHTuO+xk3ji9Bbe/urr8CsvfYYuJ+fxuSnw+QNAft2sb4z1vE5t/vFgvQ6S4dvaUK+pkJ4HFswevsy0uUz2Y+U5FfTMENhu30REg6ovgU+GSzBrt5iDSMZZMRINAglvkt+2t6t4YeBK3PjGF+JtP/IsvOWHn4n/+tJr8ac/9/14648EMaaDnlneTefw+eMLiOZjZt2Tj2JB6p5ICsmKuSwcyyO6IKeU+BGAeQ5fZCqIxZhZX61hWodDZx2WLZs9fG33TUQ0oPi1LERDrDZEqx6H+YuXjVwCy+NL+vzjQtp5LjIRkTcw8BERb62mr9KdxYrMysUdvNCMiDyGgY+IiIjI4/pzlS4RERERuRYDHxEREZHHdR3S3djYsOaIiIiIyM0mJiasuVY8h4+IiIjI4zikS0RERORxDHxEQ46d/ERE3schXaIhZX/05bv1Hjp+Go+eOIMR+dK9JlJO7qsr99od9fk8/n18RETexMBHNKTsj/6prSp++s/W8dV7H8Phg6NquV5cMzKygxOnt/GBN7wQU8++St+GbVQFQCIiGhystYmGlN1Td/L0Fu5//BQeP7WFx0+qSR4d0/FT27oHUCYxou/JQUREg6SHwGcgl0ggZ8itiNIoWEtb7bUcEV0IztuljY36MOob6TjZ68UO8x4R0cDpsYcviHG50WQosMv9JvdajoguhF7OxXNX3pMGZRhhPdkNS3tZAum0mmRhIY1EztBrjZy1zMghUdtWGqdWOdVQNffl2Hcip5qwRESDq4fA50d8KYWI+knVbjAuvXl2xWlXuu3KERH1j5HLApkiikWZZuBXqay+bAGBcskq2c4kFvR2RazOARUr0ZWCSbUsBb9z38kK5q3ASEQ0iPp0Dp+BiqpXQ3OruqKMWEuJiM4lfzwJzNqNzXmsq2VGBQjoFqYfk9GQzLSnyqxbDdXYYj0YhsyN1X5KWLH3PbuCkp0IiYgGUJ8CXwQp1QpewLyqHK2hESJyvV4u0nfXZf1m3aN74TJB5NcN+AP13joJbc3sZYX0PLBgbpuZ1osa+AMhTNd6D9WUYlOWiAZXfwKfdS6M2Uq2ztsjIlezL9iQx63tKrarOx0ne70YcVHik/PxzN496YUDknE//PEFBLLmsmzZ6uGLTCG4GGtYFpkKYjFmllvDNMqbjS3Vxt7DcO0cQCKiQcTv4SMaUvZH38vfwyeBcHl8CeycI6Jhx8BHNKTsj7708nn1ThsMfEREJgY+oiE3SAGOiIh6MxjjMkR0zjDsERF5HwMfERERkccx8BERERF5XNdz+DY2Nqw5IiIiInKziYkJa64VL9ogIiIi8jgO6RIRERF5HAMfEdVIh3/VuqOGnrcGAOSBgwFERIOLgY9oiEmIs4OcHfB8vhE88Pgp/XUtPjVtV6tq3vz6FoY+IqLBxMBHNOQkyFVVqJOOPbmTxj9/+V786Ls+jf/nH0p44tSWXia3U3MGQyIiGiy8aINoyOlePenCww7+8ONlNX0dWyoAntnewdSzvwuLr/k+PP3KozoUyq3X5MczDAOG3w+/9ZSIyKt66OEzkEskkDMKSIfTKFhLW+21HBFdKBL2JL49/MRp/OryF/A/P3abHr49dGAUxw6PYe1r9+G17/kcPveN+80h3aqXevhU3TS/bs0TEXlbj0O6QYxLkzgU2KVlvNdyRHQhSHiTILd5/3H83S1349LDB6wh3h1sq3WXX3QI/3nPI/hY6R7dsycB0VWBr5BGIq2mcBjhWsNSGpnyXE2JnGp6muX0c0c5I5fFSmkRsbR6ZuSsfcgkDVXnfhJIp9Wkdy4NWatcl30TEblND4HPj/hSChH1k1qKm0FOKt1EoqnCa1OOiFzFvhDj2U89hpc9+7vwxJkt3cMny0d2RnByaxvffflFeOXznqIW1rdxk1I5gIViEcUMkFVJTYIcMuq5LEtWMG+mN2A6o5etzpWxpiopfzyJ6dAcVlMRtXLS3IdeD1TUJvX9LCBQLuldGLl55KOrZrlovuO+iYjcpm8XbZSCSV3h2ZUuEQ0AFfa2qzs4fGAMLw1+F06dqeLgqA+jvhGMjY5ga7uKa1Tguz5wpQ6GcgWv2wJfKDppNij9AZ3UjEoJK7NWj9vsCkqS3qRcoEuzU61at3ruYotWuKsA5iZ+TEZDtWXRSXM//smomQyVrvsmInKBvgU+VnhEg8cObzJKO/nMJ+HYkQO495GTeOj4aTyopoeeOK2D4OEDo3qYV0q77Rw+O9DZCc0fCGHa7uGTSffgdVdIzwMLZvnMtLnMyo+ahEghy/Lr5kJjPW8nQiIi1+tfD99izGxRZwNYiLMSJBoEEvh8uhbYQeiay/CmlwTw0y/4brw27NfT6174NMSvv0aHPMmGeqjXbT185azVmwckVd0jQ7Wwe/jUlOg44uBHAOY5fJGpIBZjZvk1TKO8aTTsJ1s2e/j88QVE82ZdF8tHWdcR0cDoz9eyyDl8mzNYYuVHNFCcH//dgpxd1lWB7xzWPUYugeXxJUgHYSGtguBUUc8TEQ2ivvXwEdHgsXvsZJJAJ1fhNk/OoOeqsHeOOXv4ZstzmGHYI6IBxi9eJhpyzkDXqTqw1w1T4CMi8hIGPiIiIiKP45AuERERkccx8BERERF5XNch3Y2NDWuOiIiIiNxsYmLCmmvFc/iIiIiIPI5DukREREQex8BHRERE5HEc0iUaYvLxl+/Wky9Ylm/Y267u4Cv3PoonTm/r1uC1V12MK44eVOXku/hk4vfxERENIgY+oiFlBzd53FJBb1TNf+3bj+FH//DTOuA9cPw03v4T34O56HPM9SoBjpo33iUiogHD2ptoSDl76w6oNOfzmc/VAw4fGMXBMR+25blaIPN22HN9G1Hur5szrCc9MHJIpAv1+XDY3J+93+bHXcg9eWV3hXQCZ3NYRERno4fAZyCXkIqrgHQ4DV0tqopP7jdpTtayduWIyDXs4LZVreL3PvYVvOmvbsH//NhtGFE/W9tVHD04ho/feh/e/Ndf0Ou+eu+jurwM/3pZYbmCZMq8ca6xnkcwU8RS3A9EUuZjjyKpJCrLrAmJ6MLosYcviHGp90IB2NVfaG4VxWIRq3NlZGvN2NZyROQOdu/e8ZNb+NDG3bjplrvxr7fdp0/WkzP6pFevfN9jet2NN2/iNivwYcdF5+9JL1taTQ2NTYujB87uZVMLVQO0uXHqYOSQxRR03FPz84slrMxaPXMde/Qc+0zkVFO3cdl8Xi9QImrPWfbyEdEF0UPg8yO+lFJVVwSppXiXILfXckREvSuVA1hQjc1iBo7GZntGLgtkVFkpX5yBv7m4UQECVm3lj2NhLoTpzBK6dew17DNZwbw6BueyZLBklVS7DAAVBj4iugD6dg5faTGmW7OxfBQLZzHsQUTnh30O39HDY3jNxDX42euvwQ8/9yrp+oP08Z3eqiJ41TG97vU/MI7nPvUSa0N3DemGopNmg3IPacofTwKzdg/fPNat5TZjs4ygHpbYO6MivYDWPmdXUFLH0JAbAyFzRvGPB1HeZOIjovOvb4HPHtItsjePaCBI4BNjPh9++8e/B+/7xevx//74c1XU28HYqA/HT2/hFdddhT/9+e/X655jBT6ftZ1bSMDSnCmriYQyUwQp3bunpkwQ+fXG8NVLIJNAN13rNVRTKtKQPeuv3VugJCLqh74FPiIaLPY5fPJ4ZruKatV8rh5w8sy27uGTr2qR5TK/Xa3q7eyg6BahctbqXQOSztGFyBSC1shDtmz2ssm5fGbvXpvyoocx18ZeQ/OKXucy+7VFl0xKRHRO8Xv4iIaYHfoG9ouX5UKKzZmzunq2WSGdBlJy/nG/FWDuuv97JiLaDXv4iIaYHdxkmFbmZSg35L8MkWdciReq6cqLD+nl8l18dlnXhL1zJDITQNb+Hr4+KqSzCMww7BHRhcEePiIiIiKPYw8fERERkccx8BERERF5HAMfERERkcd1PYdvY2PDmiMiIiIiN5uYmLDmWvGiDSIiIiKP45AuERERkccx8BFRg+ZOfw4BEBENPgY+oiFmhzt5tCf5YmW5tZrcUk2vt5bb5YiIaPAw8BENMeddM+S2anIf3UdPnMav/fUGPvW1+/RzWV7j8btsEBF5FQMf0RBz9urJbdVGfSOo3H8cH/nSPfjUV+/Tz2W5rNflBqWHzzBgWLNERNRT4DOQSySQMwpIh9Oo33FSLc857z/ZqRwRuYUd9qRX7zf+9gt4819v4O3/+BW97J/+81t4601fxMz7C1hT4U+WNfT2uZaqc+bXrXkiIhI99vAFMe5XD6EA5AFGDonwPPKVrHqUkCcLRVM5InIVCXFVFfoOHRjVF2e87zMVrN9xPy45cgD3P3YK71m7HV+551FccfSgef6eKu8u0qAMI6wns2Fp5LJYKS0illbPdN1kr7fqpkIaCdUYtcsTEQ2DPn0Pn1S6WZSn1exKEMliChFzBRG5nAQ+iXES/v7Xx76C9/7b7dipjmBbLf/+p12K9/3C9XjqZUdQrVbh87nrLBAjl8Dy+BJSusIxYBh++P2qPkpsYmYpDr8M7frVMmdZpBFem0LR3IiIaCj0qfaOIFVcQDSQxBLDHtHA0EO66tEeqpVH6dl72pVH9LoHHj+Niw+N6VAovXt9aR/2kT+eBGbtHrx5tAzkqqS3njDXxxZL1kIZdOCYAxENlz421/2Ixxn1iAaJ9OqZj2b4O7VVxW+98jn4+//6YvzlG67H0644iodPnIbPCnt2efeQxmYRRZkyQeTXGy/VKKTngQVzfUZGIIiIhhRvrUZEu4Q5qSLcGfhkmLbeczeNjB5hkAvGYlgMZlCcWkN4dsVcOz2NcmAGS+PLSGyqxzh7+YhoeDDwEQ05Z5CTeRnd1U/NnKf+Uz/uynlERLRP7joDm4jOOwl7znafT4c89ahmzJxnrmPbkIhocLGHj4iIiMjj2MNHRERE5HEMfEREREQe13VId2Njw5ojIiIiIjebmJiw5lrxHD4iIiIij+OQLhEREZHHMfARUe0rV+RRbq8mj1X1qG+pZi3nYAAR0eDikC7RELM//vJdfDrcqf/k+/ecJACOWsuc5YmIaHCwh49oiElws794We6XK2GveOeD+NUbi/jAegUnTm/rsCdhUMow6BERDSYGPqIhJiFOhm4lxt314BO4YeU/EM8WsLJhIPX3JbzufTfjE1/5lg6DUtZ1oa+QRiJnWE/cQe7vmy5YT4iIXKKHwCc3Jk8gZxSQDqeh67W2lW6bckTkKmaAA+555CRe9Sefwfs/W8GZ7SouOXIARw+N4ebbH1QB8Gb8xWfu0EFvyzq/j9orpMOILZasZ0RE7tFjD18Q4371EApAHjrbazkiuhB2VIiTIHdqaxv3PHQClx85qHvz5Lw99R8uU8HvidNVfPvRk7qc3cvnKpVlJMJhhGsNS2lkynM1JXKq6WkGsbDV7VabN3LWdjJJ41SvtbZNIJ22e+qk8WqVs/YnjVxzO5nqr4upIlbnQvoZEZGb9BD4/IgvpRBRP6mleD3I5eebKr8O5YjINWRwVgKchLxDYz5sW4HOHrbdqlYxquYPjPpqy+11blEqB7BQlKBVxprOcVkgU0RRLSsmK5hXSS6SKiKDWRXi0ur/GRRTEbXlpN5Oyq3Oqdyoklx92wUEymZPnZGbRz66apaL5vX+tGm1H8frQmo72S0RkQv17Ry+UjDZVPkRkdtJX50EOLko49SWGe7snjwx5jNDoAzz2svtdW4Rik42NCiNSgkrs1bv2+wKSpLklMjMHMorZczNWKlMbbRu9dzZw7BGBQjonfkxGTV76mRZdNJ8Bf9k1EyGSsgsSEQ0EPoW+Fj5EQ2eESvAHRobxXdffgQPnTitw59cmSvfxPLwiTO46KAPT77ksGt7+Jr5AyFM2z18MunePAO5+TyimSjy8/Yw7zywYJbJTOtN1ba1PKeDo5Bl+XVzobGetxMhEdFA6VvgI6LBY/baAVdfehgf/fWX4E0vCeDgqA+PqqB3/NQWXnztFcglfwBvfMkzdOAbUynQ9YEvngTsHj41JXJF5BIx5KMLiEfiWIjmEUvk4J8KYjFmllnDNMqbRsO22bLZw+ePLyCaj5k9gfkoFuIMfEQ0ePjFy0RU670T8j187//MHXjRM67Ez17/NBw5OKp7/WStGRDrZb1GvlJleXwJ0ikoF3esTRX1PBHRoGPgIxpi9sdfAhzvtCHkKt1ZrMhsaA6rvOCMiDyCgY+Iar128ihfxyL5TtcM6tH+0mXh3aBHRORtDHxEREREHseLNoiIiIg8joGPiIiIyOO6DulubGxYc0RERETkZhMTE9ZcK57DR0RERORxHNIlIiIi8jj28BENObMKkDtomN+5Jz/qWe1RvqJFf2WLLkVERIOIgY9oiMnH3/5uPed8M71OHtXE7+IjIho8DHxEQ8z++Mujz+dD+VuP4luPnMSBMZ8VAIHrn36lvtOG3cPHwEdENHgY+IiG3Ha1qodu73vsFH4i8xl82XgERw6MqsAHbKl1f5V4IX5m4hpdblSFQjMIuiT0FdJIbM5gKe6GG6A5bsuGaWSKKfA2vETkFj1ctGEgl0ggZ0jlllZVnHnD8bTMCCOHdM6QmZZyROQu+v65KuzJ/XPf95nbccd9x/G0Ky7CFRcfwpOOHcJlFx3Euz5exkPHT+lbrFUlHLKHry0jl4VKeSgWi1idKyOr60EiInfo8SrdIMalQR0K7HJj8b2WI6ILQXrrZLj2S3c/hBtv3sTFh8ZwequKreoOzmxXcXDMh/K3H8d71m7XQU/yoesGBSrLSITDCNcaltLIlOdqSuRU01M6AtW81SqtzavGqbmdTNI41WutbVUjNm03ZKXxapWz9ic9i+Z2Mpmv648vIWV16fnHgwjqyo+IyB16CHx+xJdkqCKC1FK8FuRWZq3KL7aIsl7SvhwRuYe+GlcFuA8V78YDx0/rnr6dkfq5epLtRlUt8X9K9+D+x05hdNQs7yalcgALVq/ams5x9Z62YrKCeZXkIqkiMphVIS6t/p9BUSezSb2d2SOncqNKcvVtFxAol/T+jdw88tFVs1w0r/enTav9OF63ToXGbAAzHM8lIhfp2/fwTdsVrKo5g9YyInI3/dUrKti9JnwNrjx6ENWqei69eLJOBTsZvd2uAj8RuloP8W5vu+j8PUsoOtnQoDQqpXoDdHYFJUlySmRmDuWVMubsJKY2Wrd67mKLVrirAAG9Mz8mo6Hasuik+Qr+yaiZDJWQWbCJ9BCuYYqNXCJymb4FPiIaPBLe5Lv3nn/N5Xj9D4zj8VNbehh3zDeCA6M+PbwbfPLF+K9T19YCoNsCXzN/IFRvgMqke/MM5ObziGaiyM/bw7zzwIJZJjOtN1Xb1vKcDo5CluXXzYXGet5OhK30ELEKe7xYg4hciIGPaIjJhRjSnyc9e296ybV4xlVHcdeDT+DBx0/pIdyHnziN33xFEJcfPaQv8JCvbnHdOXxN/PEkYPfwqSmRKyKXiCEfXUA8EsdCNI9YIgf/VBCLMbPMGqZR3jQats2WzR4+f3wB0XzM7AnMR7HQ4YrgwvIiSlhRm9uvayVHIiIX4NeyEA0x++Mvj/wePumkS2B53Lz4Qi7uWJsq1i7EICIaZAx8REPMDHVmgHPON9Pr5FFNXg585jl41nfpheawynPxiMgjGPiIhpxZBfBeukREXsbAR0RERORxvGiDiIiIyOMY+IiIiIg8ruuQ7sbGhjVHRERERG42MTFhzbXiOXxEREREHschXSIiIiKPY+Ajojp2+BMReRIDHxFpcnbHjnwZn3rcrlat7+ezv6ePiIgGGQMf0RBzhrrapH5+72O34dZ7Hmlcria7LBERDRYGPqKhZt47QyJcVf2vqv4nj1+46yE88PhpPb8ty6WAze23ViukkcgZ1hMiIhI9BD4DuUQCOUPuOZlGwVraaq/liOhCGRkxk5xPhbixUZ+eRn0+HDs0hsuOHFDzIzigl8mt18ygN8IePiKigdNjD18Q43JH8VDAcWNxFfDSOfV/p3bliMgtqlXz8fN3PID/nf8q/vgTZbzr/34Nt3/nOD7wuTvxZ5/6OhbV8r/9/CZOntnSZa1N3EF689JqCocRbm5YOnr6jFwCab1SGqBStk15IiIP6yHw+RFfSiGiflJL8S5Bbq/liMhNXD5g26JUDmChWEQxA2R3Gco1clkgo8pK+eIM/Bz5JaIh0Zdz+AppaS3HsLiyiJi0nM2mNBG5nM+qAV70jCvx36PPwVt+JIi3/eizce13HcUbXvx0/NrLnoU5tfx1LxrH4QNjumxfKo0+CkUnzQalPwBUuic4fzwJzNo9fPNYt5YTEXldX+ruSEpay6uYm57DqrScUxFrDRG52c6O2Z9X3dnB1nZVT/KVLI+d2sLDJ86o+R2c0cscV+m67KKNkh3yjAoQaD+WYFRK1lwEKd27p6ZMEPl1dvER0XBwW2OdiM4rM8RJhPOp//nU/+Tx+592Oa68+KCeH5XlUsDmsos2QuWs2WM3CyTjjsAXmUJwMabXZcshvUjO5TN799qUJyLyMN5Ll4g0XRWMjOircLfVJFfuypW5sty+Qtd15MKMzRksMbgREXXFHj4i0iTU6a9cUY/y1Sy1r2Fxa9gjIqI9Yw8fERERkcexh4+IiIjI4xj4iIiIiDyOgY+IiIjI47qew7exsWHNEREREZGbTUxMWHOteNEGERERkcdxSJdomDmae3K3Dbv9J4/2KudyIiIaTOzhIxpqEubq37Un4U7mnM/lC5iFXVXwe/mIiAYPe/iIhli1aga4P/nk1/GX6xUd7uz75so9deX5Hfc9jrfd9EU8cPy0LivLiYhosDDwEQ01M9xFrr0Sf/HZCj54850YG/Xh1HZV323jzvuP400fvAVPvewILj1yQAXEeo8fERENjh4Cn4FcIoGcUUA6nEbBWtpqr+WI6EKRHjuV4XD906/Ae14/gT//9O3I/tsdODw2iju+8zje8IF/R+wFfvzWK5+DMVVWsh6HdImIBk+PPXxBjMu9ykMBdL9l+V7LEdGFIOFt1DeCM9tVPO/qS/H+X7weH/7C3Zhf/U+89aYv4acn/Pj1lz9LD/PKyX1S3k2n/RbSYYTTZnPSOU9ERI36ctGGkUsgVkmimIroSjcbWMVSnBGPyO3sj7/02Z1Woe/g2Cj+4YsGfmbhE3jlS5+Bf37rD+HUmW09zCvBUMq7rYdP6pw1TGMFU7oOIiKiVn05h88fX0Jxag3hsKp4p4oMe0QDQsKbTGeqOzrs3Xbvo3jfp2/H/+8XwzigQt6f/OvXcejAqC5rh70+tBH7KjIzh/JKGXMzDHtERJ308aKNAOYyc8CmYT0nIreT8CbDtRLu/vOeR/DLf3ULfur7r8FC7Hn4o599Pv5hw9BX8Ervnnwxn/t6+Azk5vOIZqLIz+fUMyIiaqcvgU+GdMNr44hH4piqxJDIsdolGgQS4CTL3XLng/ivN27gV156LZI/9Ayc3NrGM77rYnzgDS/E6hcN/P6/fBVbqqx07rmnh08uDIshH13Qdc9CNI9YgqGPiKgdfvEy0RDTX7OiEp/04h07PIZfmgxgS38li1y9u6O/mkW+h0+Gdn/7Vd+DJ118SH8PnywnIqLBwcBHNNR4pw0iomHAwEc0zOTTb+U3Z9jT1YJ6lOfNIZCIiAYPAx8RERGRx/FEHCIiIiKPY+AjIiIi8riuQ7obGxvWHBERERG52cTEhDXXiufwEREREXkch3SJiIiIPI6Bj2iI2R388ihfvyLk0flc5p3liIho8HBIl2jImYFOtf7kHmsWub+uvn+ug5Szv6OP38lHRDRY2MNHNMQkvKlsp8Pev5W/gxf+3sfx/n+7Q4e9b9z3OF62+CnMr3659uXL+pFhj4ho4DDwEQ0xCXwS7v71q9/Gr/31F3D7d47j//+xr+Cd/3wb/utfb+A/jEfw3k/fgd/9yK04cWZbbWCGvoFi5JBIF+rz4TASOQMopNs/7sLIJSC7K6QT2ENxIiJX6CHwGcglpKIrIB1OQ6rRQtqqQGWtqgzN+dZyROQuOzvmEO0ffryMygOP44qjB/Xd1v5APf/KPY/i8qMHcGjMhz/+xNdx14NP6J7AQQt8heUKkqmInjfW8whmiliK+4FIynzsUSSVRGWZNRsRDYYee/iCGJd6MhSAPERSq4jml1FQref5fBQLtUq0sRwRuYuMzsoQ7e+8+jo8/5rL8cSpLd3jd/GhMRwc9WFrW3oAfViIXYfAk46iKuf2uWhIVxqbYav3zjlfo+qkLKag457UT4slrMxaPXMde/Skkar2JVMip5qujcvm83qBElF7zrKXj4gGQg+Bz4/4UkpVdRGkluJWkFPLFgLIxvKILjiWtZQjIjeR7La9XUV4/Aq89eXPgnTe2ef1ST/eyTNV/OCzrsSvvzyoAuCo2sAMiG4RSRWRwSzS6bT6fwZFqyevxqgAAav28cexMBfCdGYJ3Tr2jFwWyBRRLKopWcG8SnTOZclgySqpdhkAKgx8RDQA+ncOn6pY69UgEQ0CCXijoz4UNx/EH33y67UeP588qvWHD/jw2a8/gD/5ZBmnt81z+CQQuklkZg7llTLmZprCnmJslhHUwwx7Z1SkF9Dq4ZtdQUkluobcGAiZM4p/PIjyJhMfEblfnwJfAelZaQAnUZm3h0CIyO3sHj25KONLdz+Eiw6N6a9kefzUlgp4VYyNjqjnVcyv3orK/cf1OXzbrgp8BnLzeUQzUeTb1D29BDIJdNN2D59MqUhDT54EQlsvgZKI6ELoQ+CTizMk7ZnDtzPRPGLN59EQkSuNjJhfs/K2VwQRuPJiPHj8tO7Z+2/q+fdcfQkeOn4Gp7aqeMuPPAtPu+IifQ6fzzVDulL3xJCPLiAeiWNB6p7aOXeWHsZc/fEkYPfwqUnO83Muy5brPXzOnj8iIjfjFy8TDTH7fD25UEO+h++/f+hLSL7kWvzyDz1Dfw/fm/7qFrzkWU/C23/yebp1WFWTewLf3hTSaSAlDdJ+K8Dcdf/3TETUbwx8RENOqgCpBTx7pw357r3lcSz1OZjJ9/BtznS/AISIyC0Y+IiGmDPESUUgvXf2XTXs53YVMZBhj4iINAY+IiIiIo/r39eyEBEREZErMfAREREReVzXId2NjQ1rjoiIiIjcbGJiwpprxXP4iIiIiDyOQ7pEREREHsfARzTk7E5+uYuGfCWL+MzXv4PvPHZSz8t38gmOBRARDS4GPqIhJmHP/n49Id+7955PfQOvznwWv7q8gW8/elJ/AbPcT1e+fk/K8SwQIqLBw8BHNKTssCc9e9KLJ3fa+KNPlPE7/+dWXHbkID79te/gV24s6p6+UZ8P29sS+vily0REg4iBj2gINffsjY368K6Pfw3v+KfbcOTAqF52yZED+MzX78cb/7KIex4+gVFVZsvFoc/IJZAuqJlCGomcYS48D2qvS0TkYj0EPgO5RAI5o4B0OA2p56TCC4fD5pTIqRLtyxGROzQM4/pGsJj/Kt7xz1/FYRX27NurSa/fZSr0fe72+5H8YBH3qtAnwdA+z8+1Iiks8Qa3REQNeuzhC2Jc6tNQAHa1Op0polgsYjWax3ytdd1ajoguPAltkttOb1eR/ufbsPgvX8NRFfb0EK9aIY8ybanQd6kKfYU7HsAbP3gL7vjO49Ye3EIalGZjcz5vL7J6+IwcEnZDNCyNT2tdWk16mWqIqufmertRKg1Vaxu78Vor4yzX5nWJiFysh8DnR3wphYj6SS3FW4KcfzIKVKSa7F6OiC4cCXXSs3fn/cfxzn/6Ko4cHNXP7aFeJwl9Vxw9iP9767exfPOm7gF0CyOXBazGZjJYspbaJrGgluuG6JxVLSmlckAvX50rY3ZtylpfxppKckZuHvnoamvjdTrTVK7b6xIRuQ/P4SMaQnrYVgW5pz/pKG74sefgxOlt/dw51GsbU0HwweOn8aPXPRkzPzDuqiFdowIErNakPxAyZ2xq+brVWxdbrIeyUHRSN0D940GE7I0tsr/opLms3niVQYrWch1fl4jIhfoe+ArLi/WakIhcSQKfdNQdHPUh9V+ei7lXPhtPnNnWYU/WyaNMEvYeOXEGkWdcib/4hevxjO+62NqDO/gD9Z47o9LY01ZIzwMLZi9cZtpauAvZX37d3KGxnu9Yl3V7XSIiN+pb4FuZNVvSs8jwhGkil3MO3UrP3lz0OSr4PQcnVejTw71qnXz/3sMq7L342ich+wthPPWyI/oqXTcN6frjScCqe7Llxp62yFQQizFz3RqmUd60EloX/vgCovmY2SuYj2KhQ13W7XWJiNyI99IlGlJ26LPvsCFX4Mr38P2vf7oNRw+O4bGTZ/CDz3oS3qfC3ncdO6y/h0++msUZFomIaDAw8BENMTu8yaPUBHLhhtxp43+sfhk//Jyr8Gc/P4EnX6LCXlWFPZ8Z9gQDHxHRYGHgIxpyduiTnj6oHCdDtnIv3ec85ZjZs6eWy/Cu1BTMeUREg4mBj4iIiMjj+LUsRERERB7HwEdERETkcV2HdDc2Nqw5IiIiInKziYkJa64Vz+EjIiIi8jgO6RIRERF5HAMfEWnS2a87/NV/n7v9ftz/+KnacucjERENHgY+oiFnB71tNcn38a2V78NP/Mln8Xsf+4pebt+Jg1+2TEQ0uBj4iIaYBDr7ThtjPh8ePH4K86v/iYNjPuRuuRsf/uI3zdupqdBnB0OZiIhosDDwEQ0x+w4bKvbpIPd7H70Nt97zCI4eHNXrf++jX8HdDx7Xt1yze/lc19NnGDDksZBGIqfn6tot2yMjl0C6oGbOYh+9qL0uEVEf9RD4DOQSCeSMAtLhNJrrpXpl1b0cEV14EvIkyMmt0/7Pf9yDv/73u3DsyEFsbe/g8IFRbD74BN7+ka/okCe3XHNfD5+qX+bXrfk2Iiksxf3Wkx71Yx9ERBdYjz18QYxL/RcKoHs1uNdyRHQh2GHvzvsfx+985FY9L/13OyrcyTl9x44cwEdK9+D9n7lDhz65r66bGLksVkqLiNldYpVlJMJhhO1Gpt07px7DerljXVvSQDXLzeftRdY+jJy1b5mkMWutS6vJ3m/tdezXkIavtU0iV+uJNMs4y7V5XSKiPuoh8PkRX0ohon5SS3EryNUrtdhiSS9pX46IBo2bL9Xwx5OYDs1hNRXRz0vlABaKRazOlbHWnOqmMyh2WmeRAIlMUZdLBu26zDap923uQ2VLa5TX+Zqza1MNr2Hk5pGPrprLonnM20PDTcfS/XWJiM5eX87hk0qtkrQrwpC1lIjcToZppdfu6U+6GL/76uv0vPThjUjPn1r32Ikz+InQ1fjllzxDD+VKD6CbhaKTHRuXocDuzU6jAtjF/IGmukwtX29p2NZf0z8ebHkN2V900lzmn4zWUmK7ch1fl4ioD/p+0YZRYeuUaFDY5+ZJ0HvV912Nn3/h01TIO42x0RGcPLON8Ssuwttf/T21c/1cedFGH/kD9Z675rqskJ4HFsyGbWbaWrgL2V9+3dyhsZ6vp7om3V6XiKgf+hL4ZFgFs2bLdw17rAmJ6IKTICdX4I5APaog99uvei6uu/pSHD+9rdf/9qu+B9dccVRfyevOizb8CMBxDt9ZctZl2XJjT1tkKojFWL2eK29aCa0Lf3wB0XzM7BXMR7HQ4eKPbq9LRNQPvJcu0ZCzqwC5SEO+i2/ta/fhZ97zOfzCD4zjXa99vg57IyoUSuAjIqLBxMBHRJpdFUh/3+fuuB/BJx/Dky4+pJfLMK796AlyxW1sEY2DpyHMrS6B38BCRF7EwEdERETkcX2/aIOIiIiI3IWBj4iIiMjjGPiIiIiIPK7rOXwbGxvWHBERERG52cTEhDXXihdtEBEREXkch3SJqM5q/0k70G4LskVIRDT4GPiISNMhT75nTz06b6E2YgU/IiIaXAx8RFRnhbv3f+Z23H7fY3q+qv9PRESDrI+Bz0AunVP/J6JBVBvGHdnBR0v34p6HT9aWD5xCGomcqo3sRyKiIddD4FPBLpFAziggHU6j8y3L91qOiNygNoy7M4IjB0Yx6rOGdK2h3YEUSWGJ90ojIuq1hy+IcalDQwF0r0r3Wo6IXEMynzXrfqpBmbBHFqSR2dS4dPT0hcNha7LLSGPUWlbbBxGRN/UQ+PyIL6UQUT+ppXiXILfXckREvYpgKpjHuqQ1Yx354JRa0sF0BsViEatzZaypxGfkskCmqJcVkxXMc+iXiDyMF20Q0UCLTAWRV4nPWM8jONUx7iEUaGx2GpUSVmatHr7ZFZQqDHxE5F0MfETUSK7bsGYHQmQKwfwylvNBdMl7LfyBEKbtHj6ZUvvYmIhowDDwEZHmvEr3xJltbFfNM/ncf5WuDOuuYKXbcG4b/ngSsHv41MSreYnIy/p4azX5WpZ1TKZ4vh7RILKrAunde/9n78DLnn0Vrr3qGKpquW+Qr9QlIiL28BGRgxXsfvkl1+qwJ1hJEBENvj728BHRwJPqQIW+Wm+fzMujfkZERIOKgY+IiIjI4zhaQ0RERORxDHxEREREHtd1SHdjY8OaIyIiIiI3m5iYsOZa8Rw+IiIiIo/jkC4RERGRxzHwEREREXkcAx8RERGRxzHwEREREXkcAx/RELOv2ZLHvUx2WdcopJHIGdYTi72s3ToioiHVQ+AzkEskkDMKSIfTKFhLW+21HBFdKHLrNPtxL5NddiBEUliK+60nRETDrcceviDGpR4NBdC9Ot1rOSK6EOzeusdPnsG3HjmBbz96smWS5Q8+fgrValWXdVUPn6gsIxEOI9zcsHT09IX1emcZaYhayxI51TwlIvI2fg8f0RCTEOfz+fB3t9yFD3zuThweG4WzQpDOvJOnt3Hd1Zfg7a++DhcfPlDbxhUkzGUDWF2KA7kElseXkIIKepszWBpXQdB6DK9NoZiKwLDKzGxaZSPmPnQ59gYSkYfxHD6iIWYPz/7Y9z4VH/il6/He10/gzx3Te2cm8IE3XI//8WPPxUUHR3VZtw3phqKTu44ghAKNJYxKCSuzVg/f7ApKFfbxEZG3MfARDTE7vEnP3VMuPYInX3K4ZZLlV1x8qNarNzDn8HXhD4QwnSmiWLQm3dVHRORdDHxEQ8w+o0Me9zLZZQedP54E7B4+NfFqXiLyOp7DR0RERORxfQh8crXbLFasZ6ZpZIopcJCEiIiI6MJjDx8RERGRx/EcPiIiIiKPY+AjIiIi8jgGPiIiIiKP63oO38bGhjVHRERERG42MTFhzbXiRRtEREREHschXSIiIiKPY+AjIiIi8jgGPiIiIiKPY+AjIiIi8rhzE/iMHBLpgvXE3QrpBHjfdBo2cq1Wp6lqPapStbKuZhjQH+FCGolOH+Z267qVF1KPhcP1MvbrEBENoB4Cn4FcIoywqgjDiVzbCrCwXEEyFVH1qVXOmnTFaVWi5rJ62DJyicZytcrYfD0zPxaQbn7NtvuT+/u2vka744mkkqgsD0Y4JeqXkZGRjpPPelSlamXdS33W59fN2UgKS3G/Od8HxnoewUzR2qfjdYiIBtD+A19hGfnoKorFIlajeczbacqmAlgWU4io2UiqqMplMB2aw6oqrytOfxxLtWVLMOvSNGL5qC4j+22otNXrVZJFqPzY2XRGb1e099dhWdvjUUc6pY64+W0Qedn2dhUPPH4K33rkBL796MmGSZY9/MRpVcr9PXxGLouV0iJi0iJsaiSaDbu0impO5jqznM3RQLQblKoem18sYWXWbDA2vA4R0QDad+ArrJURnfSrCjCBmKoQS5WmpGRUgIAjsO2BsVnGdDKO1q3WkV6b6h72xMpsa+XeblkH/gDQ/DaIvEwC3e/8438i8Ze34FeXN/ArN5qTzP/i0r8j+2+3WyXdHfj88aTZgHNWEo5GqWrfYbYW0lR9Ep4HFhoblRLmkDEbm8VkxWzEqobpwlxItRvNBmPb1yEiGiA9DOmWsBgLYx4LKK7OIWQttUl4C47vL/B1UlpcRHkv4bHWm5fSPYtau2Ud+MeDKG8y8dHwuOyig/jdn3weln7perx3ZgJ//npzkvm/SrwQyR+61irp9iHdVg11UCSFohXSpD5Z0XONjIr05Fk9fLMrrY1YIiIP2Hfg8wdCCM2t6hayPsdlqjFO9RKeZJuVbOv5gPI6CypanutRlH6GVKJBMDrqw5UXH8JTLj2CJ19yuGGSZRIIB+McvlYNdZCc42sN00p9UiwmUZlvrGukTpu2e/hkYi8eEXnQ/gNffAHRfEy3huW8u5nmunG38VF9kcWseT6MfUGFaoVngvLcbGU7z6/xx5cwteZYprczy9WCYG34tn6Bxn70MApNNNBkmLbTNFhX6foRQNO5dao+SVbMOiocyyO64DxdJIKZaL6hvAzXwu7hU1Pj+X22Nq9DRDRAzsm9dAvpNJDafSjVHQowD5eteiIiIvKmHs7h211kJoDsgLSEC+ksAi3dlERERETecU56+IiIiIjIPc5JDx8RERERuQcDHxEREZHHMfAREREReVzXc/g2NjasOSIiIiJys4mJCWuuFS/aICIiIvI4DukSEREReRwDHxEREZHHMfAREREReRzP4SOiGqkORkZGdr1/rpQhIqLBcW56+IwcEgN8k/FCOoG2908n8rx6kKuqzNdpchXDgP64FtJIdPrgdlsnetnWfl0iogHQU+AzcgmEw51DUWG5gmQqourJsCpXn3SlKWGwtqy+D3OfjnK1StZALhGGzo/ObRM5s7LtsD/na9uVtbxGLYeq7dJqebtjjKSSqCwPbmAl6tXIiJnmpAdv1Nd5co8C0vPr5mwkhaW435zfr31v63hdIqIBsP/Ap4LYPBaQmbaeN1NBKospRNRsJFVEsZjBdGgOq8WiWaH641iqLVuCrmPVPmP5qC5TtMvZCsuoJItQ+VELzq3qMplgHuuS4zrsbxYZXa5lf03aHqM6+in1LuzwSDQsqlXz8WvfehR/+PGv4Y8+Xsa7P9E6uYWRy2KltIiYtOSaGolmIy6topmTua7WqExIQ1OVqW2rgpzeTjUO044GYmXZalia+2t4XSKiAbD/wLdbS9ioAIEu69swNsuYTsbRutU60mtTtbC3V4W1MuZmIrpHz9nDJ1ZmrX8IYovo9s+WP6DqeAY+Ilfzx5NmY81ZSahGYj5qNgxVWw6ztVCm6pPwPLBQbwSWgklVLqUbqEKCHDLSCFxAoFyylqpy5YDarIjVuTLW1O7avi4RkYv1/Rw+CW/B8f0Fvk5KiyqUNYXH8mJMB7ZsYMHszevCH19SFX5jV+S0rszVtDqHoLWsHf94EOVNJj4aLj6rRnj2Uy7B217xbLz1FUH8xo+0Tm7WUAepBmrRCmVSn6zoubpQU/1Sb6/6MRkN6WUiFJ1s0yAlIhocfQ98vQQl2WYla52T5xCaW8UC5uvDKooe0lVhDYvLTUM1ddI7t3iW5+D1M7gSDYqdHfP8PLlKd7vaeXKzhjpIzvG1zveV+qRYTKIy31rX2Jw9+0al3sNHRDTo9h/4rIskZldKWIxZF1M47TYWqrefNc9/sS+yUK3wTFCem8OtziFY6aWbWmtcJuftLcyVkZVlbfYn22Qwaw7dzja36femh5FpIg+ohzm5NqPT5B5+BNB0Lp2qT5IVcyQgHMsjuuA8XSSCmWi+47l3MlQL67SPbLnew9eqzesSEbnYOfkevkI6DaTq58UMngLMt8Dzc4iGiZz3uzy+pM8bliv416bqF4wREQ2yvg/pishMANkBbvkW0lkEZljLEw0bZw/fbHkOrAaIyCt4pw0iIiIijzsnPXxERERE5B4MfEREREQe13VId2Njw5ojIiIiIjebmJiw5lrxHD4iIiIij+OQLhEREZHHMfARkSad/WaH/w5+NnszPveN+/XyKgcBiIgGHgMfERERkccx8BERERF53LkJfHJ/2wt4p41C2rpHLxF5n2FAf9wL6cZ7bjt1W0dENAR6CHwGcgnz1kPhDqGusFxBMhXR96LU5axJV7gSBmvL6sFM7mHZUK5WQZuvJy8lZWovqfaTtsrZ24XDacjqSCqJyvKFC5xEg27EenS/AtLz6+ZsJIWluN+cJyKiBvsPfIaqXJNFFIurmCtnW3vSVBDLYgpyC8pISsplMB2aw2qxaFbG/jiWasuWoOtnFdpi+aguU7TL2QrLqKjX63YD89Dcqt5uda6MrD6giDqCNsdGRB05L9o4eWYb21XzYg03f3OTkctipbSImLQEmxqJzkZgnbmusVEp+7Eak7Israa22xIRDa79Bz4V2OK18BXEeHOD2qgAgf21so3NMqaTcbRutY702lTXsNeJPwBUGPiI9mxkZERP2BnBz71oHE9/0kV6uU+WuZQ/njQbj85KQjUS81GzEajalpitDQuo+iQ8Dyw0NSqblMoBVcTc1mxAEhENvp7P4SukpeJM6Z48JwlvwZYU2JvS4iLKewiPpcWYbs1LL+GCVZH7x4Mob7KyJtqrWuBT02vC1+CaK47Wlg+ShjookkLRCoNSn6zoue5C0Umz8clWIxF5SE+BT87NW5uyhmOb9BK0ZJuVbM488dpBhmoXMF8/b0+p7duooGzO1YZ0i0v1XsJ+Bk+iYeAc0pXv3rOHct08pNtOQx0k5wwnzLrFrCeSqMy31jVGpWTNqWBoh7weRiuIiNxq/4GvkMasaiavzJrnyNjnwNTs1irWF23Mmufd2BdtqFZ4JijPW/fpjy9has1cJsM3Qas3T+0CyS7DMqyrifan1sOHET2Ma/fsubuHz48ArHP4bKo+SVaseiKWR3TBebpIBDPRvFk+MlWrT7LlkLVeBcNydk91DBHRIDkn99ItpNNAqnW49/wpwDyEC3cERDSA5KKNzRle7UtEntPzOXzdRGYCyDpb3OdZIZ1FYIZhj4iIiEickx4+IiIiInKPc9LDR0RERETuwcBHRERE5HEMfEREREQe1/Ucvo2NDWuOiIiIiNxsYmLCmmvFizaIiIiIPI5DukREREQex8BHRERE5HEMfEREREQex8BHRERE5HHnJvAZOSQu4K3V9qOQTiBnWE+IaPAYBvRHWO6D2+nD3G2dYuQSGJAqi4ioJz0EvgLS4TDCMiVyZkXbpLBcQTIVUXWsVc6adIUrYbC2rB62pMJtKFeroA3kEmFdGTvL1F/bXG8uT6ujk+fyaFPHa5XV29vbWfuPpJKoLLOmJ5IL9s2L9ndQrc2by91Lfb7n183ZSApLcb85T0REDXoIfBGkikUU1ZQJVqzQ5aACXRZTqpTUv1Iug+nQHFZVeV0Z++NYqi1bgq6fVfiK5aO6jOy3odIuLKOSLELlR206Y5ZZjeYxrwKbkZtHPrqql6ndIpsDxoNm2ZrgOOw9hlDBesNBR9TRZtnLR0NvZGRET2oOvtq8udytjFwWK6VFxKRF2NRIrDcCncx1Zrl643U+b65t2FY3DusNSGkw1raTder1zNdo9zpERO7S05Cu3dOWDczoYNfAqACB/bWyjc0yppPxWiirW0d6baoW9pz8k1GgoqrjShBJOyBGphBUy0z1nj2nYDSAfFOPnj+gd0U01Go9fGr6UPFu3PXAcb1cevvcyh9Pmo1HZyWhGonORuBsbaxW1SfheWDBbFRKWITVgEwGS7qEswFpNioBqWo2Vf1gIKjql3UYxiYQnTTrq+mMWXaujDUmPiJysZ4Cnz++ZFaSlVjLeS8S3oLj+wt8nZQWF1HeZ3g0lbFZ2EQgqKp4VVEHnPsYjyOJtYbWuH88iLLU6ERDrBb4RnbwN5/fxOYDT9SWD5KGOiiSQtEKg1KfrOg5k7Nt6g+E9KMsi06aC+1GpX8cyK8XsIkp9VNRgU8VsvYf6ql+IiI6/87qog27knTqJTzJNivZ1t640NwqFjDf9mTqwvKirq39gXrLWlrsEhD9KulV1lSdnFI19fKaqqIbRaaAbLZsPetvSCUaVM4h3cMHRjHqc/+QbjsNdZCcM2z19Et9UiwmUZk3nzt79o2K2cMny/LWOR/Get5MhDJykM+qekTqFqk7gKk2ow5ERG62/8DnOG8lVkm2DrfuNj6qL9qYNc+7sS/aUK3wTFCem/s1z5MxSW/i1Fp92cqsWWYWGT0sI0M6sJbJeYALeni3jBWV59RaNbuinjWJzCAKs4IXPYxCE3na4PTp+RGAdQ6fTdUnMvqg66lYHtEF5+kiEcxE87q8s+7Ils3Gqz++gGje3LZen0QwJUO+qlEovX0l9YqsLoho0IzsnIPxmkI6DaRSref3uVIB5uGyyU7Dza4KpEPvZ7MFvOWHn4UXP/NJ+hw+uYiDiIgG11kN6XYSmQkg224c1oUK6SwCMwx7RERE5F3npIePiAYPe/iIiLyLgY+IiIjI487JkC4RERERuQcDHxEREZHHdR3S3djYsOaIiIiIyM0mJiasuVY8h4+IiIjI4zikS0RERORxDHxE1Jaz83+7yoEAIqJBxsBHRA0k6Mkk99CVx+3tqr6v7umtbRw/tWWVIiKiQcLAR0Q1dtCTabta1ctGR3340l0P4af+bB0f/uI39TIiIhos5ybwGTkkBuTWau0U0gnkDOsJ0RCxe/Wq1R2M+nw4s13Fn37qG3jNn9+MW+58CFcePWiV9CDDgP7YF9JIdKsApH4Lh+tl7O2IiFys58BXSIcRTuTaVnSF5QqSKfP+tEYugbCqHGWqV5BSYTpClVWB6nL2Pp3LrLL6NWvL7P0VkG4+jjbbmlTZpuXt9hlJJVFZHtzAStQrezjX5xvBbfc+itf/xefx9o/cihOnt3Hs8BgOjnp1UEDVDfPr1nx3xnoewUwRS3G/erb37YiILqTeam/VAs4G5jBtPW2gwlYWU9BxT5WL5aNYLRZRVJNZQUqFWUE0E0VlvR7TgnOrukwmmEdt8XRGLysWlyCbRlIyn8F0aE7v095fW03b1uxpnxH1DrLs5aOhIxdnSC9f7pa78ON//Bn829fv10FPzuHb3t7R99V1FwO5hN1gS6v4JYvaNPik1y4hjU8p42j4WY1FI5fFSmkRsYaRidZysu/5xRJWZs39tt+OiMh9egh8qoLNAsn4uPW8iVEBAmbCMjbLmE7G0RjLDKxXApiMTCJQWTcr0U5WZq1K26rI96PTtnvcpz8AVLoeHJF3jViTzTnvKoVl5KNmY1G12zCrg9ckFnSjrojVufrnuBRMqmUp+KUCy5jri8kK5lVy88eTZqPPGpkQEuaay6mCWJgLqXaj2WBstx0RkRvtO/AZuXlUkimzB68NCXnB8caI18BYRyUwqUKgH+Oo9+aVF2M6iGUDC/UeuVpvXOfX66jTtnvcp388iPImEx8NF+nJkyHd117/NHz0LS/BDz3rSXjs5Ba25Jy+0RH4RtwV/Rrqm0gKRQle6um61esXWyyZ65SQ3RCtSA+duT48u4JSh5bdXssREQ2CfQY+A+t5uxKcNYcyms6fcwYlmV/JNq6X819WrHA3u1JC3kp8ekhXmuOLy/vvzTsHdg2uRB5kX6ErF20896mX4MY3RvD2V1+HIwdHdfA7vW1euesWDQ0zGcpV9dFH0/PAgtkzl2lz3ok/ID105no9deid22s5IqJBsM/A50d8ya4ArfPelpqGbJ1joarFnQmqUCgtZDUlckUVGIPI2BWoBLy8Y1hXD5eUkbVPnqsNvzovvGhDgqf1GrVTafa6bQeOkWmioWF/LYtctCFfy3JgdARvftkz8aFf+QG88OlX4IHjp62SLqHqmGTFbECGY3lEF+J41VQQizGzPljDdEtPvQzDwu65U5N58ZcfATSei9e+XLPW7YiI3Oic3Eu3kE4DqR6GYV2jAPMtsEVPw8euEhq+omXUp794+cz2Do4eGtPriYhocPR2le4uIjMBZAe4xVtIZxGYYdij4WQP69q9fRL25Ordg2OjDHtERAPqnPTwEREREZF7nJMePiIiIiJyDwY+IiIiIo9j4CMiIiLyuK7n8G1sbFhzRERERORmExMT1lwrXrRBRERE5HEc0iUiIiLyOAY+ItLfs2d39rPTn4jIexj4iIaQHeq2tqt49MQZjPpGIEsk+MmXLQsGPyIi72DgIxpCVSvMffvRk3jd+27Gn3/6dvjkrhoq+EkIlLBn322DwY+IaPCdm8Bn5JDw2M3EC+kE2t47nWgAjagfcfTgGM5s7eC/f+g/8Ka/ugWb9x/H2KhPhTyzh8++zdpQMAy0fMQLaSQ6ffA7rWu3HyKiC6yHwFdAOhxGWE9p9axVYbmCZMq8F62RS1hlw/XKUQJh2BGg9HNrn4mcWVk6l1llC2n7uTnp/e1xW5tzH7K9HF8tm6rt0mpZu9eJpJKoLHsrxNIQszKczzeCiw6O4uJDY/jHL92Dn/zTzyJ3y116uRQZnh4+Va/Nr1vzDpEUluJ+68ledNgPEdEF1lsP33QGxWJRTSmYsc5BhaYspszlqgUcy0exqssWaxWnsV5BNBNFZb2exIJzq7pMJphHbXHtdZYgm0ZSMp/BdGhO79PeX8u2/jiWauXMbTV1PLOw91nfvln714mod5VlLx95g5XhJMzJeXvqP1xyZAwPHD+NX//bLyL5wSJObw9C0DOQS9iNM6sB2q7BJ71xCWl8ShlHo9VqJBq5LFZKi4hJ689ZttaLZ2+jGohpRyOxsmy9lvnaDfshInKR3gLfymxDZdnAqAABM0gZm2VMJ+NojFUG1isBTEYmEaist27vZL9Oh57E/SqslTE3E1GVstnraPc4rszKa6gptoiyXtKeP6Dq964HTOQBKucNzCBuYRn5qNngU200zOqgNYkFq1G3Olf/zJaCSbUsBb8KZciY64vJCuZVPeCPJ80GnjUyYZe1G7QS5MxtFhAol6ylqlw5oF9rda6MNfXSzfshInKLHgJfBCm7Mo3m0TzKKSEvON6+50wz1lEJTKoQ6Mc46r155cWYDl3ZwEK9R65bT6JD22278MeX1D8O09YzeRmr8lf/OgStZe34x4MobzLxkQdYiU7Oz5MLNdR/ePTEFq68+BD+5OdegD//hTAOjro/9jXUN5EUihK01NN1q9cvtlgPZyG7IVop1Rt5sysotWnF2WVt9XasH5PRkF4mQlGpy4iI3O+sLtqQirOZMxTJ/Eq2sRfQWM9jxQposysl5K3Ep4dlpTm+uLzv3ry9bis9dItncR7ermGWaFBYo7XV6g6eOL2Nx09t4SeffzX+8c2TiF//NL1cirj9oo2GRpgM5SZy+Gh6HlgwG3GOdl2NPxCqN/Jk2kNvnLN3v129R0TkdvsPfI7zY7KBVbTUlc6aUbW4M8FFxKzyiVwR6/kgMnZFKyEt7xjW9cexMFdG1j5Rrjaku4crZJ3b6mOcNc+lcWwrPXsZWPtULfv9coxWEw00M84Bx09v4eDYCP7gtd+H9/3i9Ri/8qj+WhbJeBL0XH/RhqpjkhWzARmO5RFdiONVU0Esxsw6Zw3TLb3yMuwKu4dPTeapHX4E0PncO+c22XK9h69V9/0QEV0o5+ReuoV0Gkh1H4YdPAWYb8tb74qGk3zsJdBJuJMevkuOHNDfzSe1gQzxOsuQtCETWB5f0g1cuYp/barY2tglInKxsxrS7SQyE0DWYy3cQjqLwAxrePIGO8jJd+5J2NN32FDP9R03rDYgw16ds4dvtjwHVgVENGjOSQ8fEREREbnHOenhIyIiIiL3YOAjIiIi8riuQ7obGxvWHBERERG52cTEhDXXiufwEREREXkch3SJiIiIPI6Bj4iIiMjjGPiIiIiIPI6Bj4iIiMjjzk3gk3vZuvBOG4X0Hu7JS0TDyTDq9/UmIvKY3gJfIW3deLx9gCosV5C0bjQp96BsvEm5XoiEc1v93CwTTuTMSte5zCor97C092XvT/Zfy5Zqm7RZ0FEuDXt1JJVEZZk3NSdqJhfr2xfsy2O1qqamZd5WQHp+3ZonIvKe/Qc+CWLZAFaLRRSLS4j7reU2tT6LKei4p4JXLB+1yhaxZBU21iuIZqKorNuJDwjOreoymWAetcXTGb3Mfp1ISuYzmA7N6X3a+2snZO1vda6MbC1ZRtSRZdnLR9RE7psrkwQ7efT51CTPrfWqhEtDn4Fcoqlx16axKHVRIiGNTymjwp293mpgGrksVkqLiEnrUcpalUStQSnL0mpyvg4R0QDpIfBVEAxWEHNWpk5qPQJWsNssYzoZR2MsM7BeCWAyMolAZb37EMrKrFkp97GC9QeAStcXJRouEuRk2q5KoBvBA4+fwsz7C/g/X/qmDn3S2zcyYgZB1yksIx81G3eqLYhZnc4msaAbitLgq3/eS8GkWpaCX4U7ZMz1xWQF86oS88eTZkPSGplop1QOmPtVr1NvRBIRDYZ9Bz4JcSuYsirYIPKOXjoh64PjnXveYKyjEphUIdCPcdR788qLMR3usoGFeq9hrYcvZfYY7kPJ2p/0MC44egL940GUN1lZEwm7R8/uvVPRD2//yK1Y2TAw/4+34hv3Pap7+7a3zVBol3OLhvomkkJRApt6um71+sUWS+Y6JWQ3RCsl1ZY014dnV1DaYwswFJV6S2GrkYgG0L4DnwQmu+JsxxmoZH4la52TZzHW81ixwtjsSqkWGPWQrjTHF5f33ZtXC3BGBWVzrjakW1xq7GHcNZASDRE77Enn3qgKdn/x2TuQK96Na664CN985ATm1Gf0+KmtWjlnOHSDhgacDOUmcvhoeh5YkIZiEZlpc5WTPxBSbUlzvZ669OpJOLTVgqFjFIOIaFDsf0g3MoNo3gxs4WygofdMc7Z+VYs7E1y0hn/lIosi1vNBZOyKVgJe3jGs649jwXnOXW1It/3FIUKGYoJWgAzPAsku5/UJ1tVEJrvHToZsx0Z9KNx+P975z1/DkYOjenj3kkMH8NmvP4Df/5ev6l4+Z+hzDVXHJCvW5z+WR3QhjldNBbEYM+ucNUy39OhLnQG7h09N5vl6fgRgncMXmarVKdlyyNxICZWz5jZ7qGeIiNzmnNxLt5BOA6n9D8OeewWYh+a+IyO6EKrVqg5wxkNPYPo9N6P87cdw0aExHfjsWHfqTBV/+vMvwM++8Gl6ufQEuir0nQ9y0cbmTNcLxYiI3Gz/PXx7EJkJIFv7rhT3KKSzCMww7BEJ3cOnHiW8vffTt+PxU1sIP/1yPOuqi/HcpxzDs9X0PVdfoh9l/b2PnNBhT76uhYiIBss56eEjIvdzfvRv/87j6jlw7LDVu+cYvpUh34eeOI1nqiB45OCY+4Z1iYhoVwx8RERERB53ToZ0iYiIiMg9GPiIiIiIPK7rkO7GxoY1R0RERERuNjExYc214jl8RERERB7HIV0iIiIij2MPH9GQcn70+bUsRETexsBHNKTkoy9fojzq8+G3P1zC6hfvwdWXHcaZbRXoZL2a5IuWnzi9jYOjI/jbZARPvfRIbRsiIhocDHxEQ6zl1mr3PYaLDjbdWm2rij/7+e9H/PprhvfWakREA+7cNNONHBIuvLXaXhXSCej7qRN5mLT17CHba644ine/7vm48ughjI2OqNA3iqMq+G2pdW/54Wfq++gKT4c9w0Dzx97IJTDAVRkRUc2+A59UgOFwuDa1qwwLyxUkU+Y9a53lE3aKkkAYdoQq/dzaZyJnVrrOZVbZQtp+bk6yv4bjsbdV/88l7HJpmIcoy+x5UUBalS/K9vZ2coN0tc9IKonKMmt58jYJbjL5VIjb2q4i8own4YZXPhsnTm/rYPfoqTN4ybOehLn/8hw9jGsHRG8OCqj6YH7dmici8p59Bz5/fAnFYlFPmekQAn5rhU0FtSymoOOeClCxfBSrVvmluFnYWK8gmomism4nPiA4t2ruM5hHbfF0xnqtJcimkZTMZzAdmtP7tPc3nTH3vxrNY16HwHnko+b+VHFkdbL0Yzyoi9cFx/EU9RBCpf6aWkS9gyx7+cjz7BCn8p0ern3jS56Bn73+Gtz94BP47kuPYFF9xqWnzxn25NE92jTu2jQWdWMuIY1DKaPCnb3eauwZuSxWSouI6RZsff18XnYoHK+jt6k3IKXRaTZmzUakoV7LfG2ZnI1MIqILp/chXR3skjqINTAqsFOgsVnGdDKuopaTgfVKAJORSQQq67qy7Whldl+Vpn8yClRUVVwJImkfWGQKQbWszqqUrWciGA0g39Sj5w/oXRF5WnOIG1E/v/MT12F6wo+Fn7wO1151TA/5jqr1UsZdYU8pLDc07mZ1YJvEgm4oqkbgXP1zXAom1bIU/CrcwWokFpMV3Uj0x5NmQzIV0eHPXp8MlvS2zkak2bBUr6Kqm021bwNBVceouszYBKKTZn1nNVZX58pYY+IjIhfoOfAVlvOIzpjDtk4S8oLjzSnQwVhHJSCVoh/jqPfmlRdjOtxlAwv1EFnr4UuZPYZnrYzNwiYCQejXDdjdk+NxFV3XGkKlfzyIstTmRB5nBzkZxpVrc6+8+BCWfzmCn3j+d+uhXBny3VHr3TiU21DfRFIoyqkk6um61RsXWzQDmwjZDdFKSbUlrR642RWUmlp2jjaraviF9KMsi06aC+2GpX8cyK8XsIkp9VNRgU8Vso7Ffi0iIrfoLfB16t1TnEFJ5leyjb1pxnoeK1a4m10pqQrTXKuHdKU5vrjc8xBIYXlR19T+QL1VLa31slX5+lXSq6ypOjmlaurlNVVF10WmgGy2bD1T2+0WXIk8RMKcc9hWevUk7NX686x1btPQMJOh3EQOH03PAwtmD11m2lzlJCHOPg1ET9b5xjZn776EQyHL7LpK6jCdCGX0IJ9V9YjUOVJ/AFP9aZkSEfVdT4GvU++e5qwtVYs7E1xETA/LykUWRazng8jYFa0EvLxjWNcfx8Jc2TrnTqkN6Xa/atZurc8io8/rk+EZWMvkHMKFWjItY0VlOuldRHlFPXOIzCCKem+As5VP5HV2L589L716vqZlrqTqmGTFbECGY6peWojjVVNBLMbMz/8aplt66p31g0zm+Xd+BGCew+dcny2bPXz++AKiefN16nVKBFMy5KsahtLbV1J7YJVBRG41olrzfR+nKaTTQKpfw7AXQgHmW2BznYiIiAZf7xdtdBGZCSA7wF9eVUhnEejUg0lEREQ0YM5JDx8RERERucc56eEjIiIiIvdg4CMiIiLyOAY+IiIiIo/reg7fxsaGNUdEREREbjYxMWHNteJFG0REREQexyFdIiIiIo9j4COiGunwl1uqERGRtzDwEQ0x+4wOedyuyv1yVaWg/vfIidP6frr2OiIiGmwMfERDSEKcTHKPXDvsjfpGcOL0Nn7nH7+MX1v+Araq1VpZIiIabOcm8Bk5JAb41mr9VkgnoO/PTuQaI7WwJ8ZGfdi480H8bLaA38+XcfjgKA6oZULKDQXDgP6YFtJIdPvASv0WDtfL2Ns161c92Gn/+2TkEtjz4bR7zd1+L/vEepHo/Ooh8BWQVpVdWE9p9axVYbmCZMq8F61UMmZZZwUpFabjw25VoLpcImdWNM5lVtlC2n5uTub+1PHY29jabGtyHnuXfaqKrb7M8R6bj1u9ai7RVK7Na0dSSVSW+1DxE/XJyEi9h0/O2fujT5RV2LsZhcqDuPTwARw+4BueoKepumF+3ZrvzljPI5gpYinuV886b+esB3u39+Pqn/PzmqwXic6v/Qe+whrKc6soFovITK9grfnzqgJPFlPQ1ZwKTrF8FKuqrJQ3K0ipMCuIZqKorNeSE4L2PoN51BZPZ/SyYnEJsmkkJfMZTIfm9D7t/bXVtG3NHvcZso5ndQ7YtI6n+biN3DzyUbNcsZgy37Noee2I+o1kHUGR6MKyRmtx/2OnEPvTdfzex27D6e0dHDs0iu2dqj5/bzCGcvfW6JK6KJGQxqeUcTT8rMaikctipbSIWEMXWGs52ff8Ygkrs+Z+22+nOOvBdsfYbt9tGpqN+2+/Tbf35dxmPq8XNGrzu+r4nkR+3irb5XftPI5u75f1ItF5tf/AF0lhAeaHfm2qiJYGrFEBAmZoMjbLmE7G4cxbainWKwFMRiYRqKxbH/wOVmabKo196LTtHvdZWozpcrHKFMzQ1nrc/ngSQVWuZZijzWv4A0CFFRtRfxWW642uDDCrQ8okFnSDy2yw2Z+7UjCpG2Z+FWiQMdcXkxXMq8+vfJZ1o89RoUnwaS6nCmJhLqTadGZjrt12mqMebHeMbfctrMbi6lxZN6ad+++0Tbf35dwmGSzp8o1af1cd35NivpYqr95HVr9+6/YNx1mcgb95mePYWS8SnT899PClVQiSD/0qAtlwyzkhEvKC440Rr4GxjkpgUoVAP8ZR780rWwErG1iwApZS6ylz9J7tVadt97jPWg9fIGu+x7bHHUFKlTEDsN26Vdq8hn88iLLdVUh0gfmsT/6Tjh3C6psn8ds//lwcHB3BY6e2MTriU+vNc/zcrqG+UY3RooQU9XTd6lGLLdZDTshuiFakh85cH55dQalD4thruXacx9XuGDvt2z7Gdnbbpt16Z+70B0LmjJNa1+531Unt+Oyk1mZ7CYywjyM8Dxkc7nTsrBeJzp99Bz7dazclMcaPyWio5cPq/ADL/ErW7r43yfkvK1a4m10pIW8lPj2kK03ExeX99+adB52OW/jjS7p161zWbNcgTHQe7ezUL9qQr2F5648EcdOvvBiRwBV45OQZnDxTHYgh3YbAIMOLiRw+mp4HFqTBJaedmKucJPhM13qg1NSmJ0vstVw7zfVg8zGO9bDv3Y6n3XpnD5qErmaFXX5XzWqh10qS7bc3G8L6GDJBXS92OnbWi0Tnz74Dn7P1FlsMIlnrjrM4axjVms0EFxHTLT25IKKI9XwQGftDb6akeiDUwyVla6hAqQ2NOnrP2pHzTazXqPU47nXbDmpDuvkoZiJG2+MuOi5IkXIL9u+izWs7W9pEF179og2xtV3FxPjluCkZwW9Fn41Tp7dxRi0Trg5+qo5JVszPajiWR3QhjldNBbEYMz+Xa5hubZQ29EDZF3/5EUDjeWvtyzVr3U5rqgebjzG8p32L+v53O552653LsuXWHr5I299Vh/ekhMpZc/+z0HV/u+2dF+rZ5TodO+tFovNnRFXmfa/NC+k0kOphGNazCjB/JfyNkLvYoU8e5XuWzW9iMb94+dihA3po1y5D+8N6cDesF4nOp/2fw7cHkZkAsm1ah8OqkM4iMMNKjdzHDnLyKF+8LM0/+ZqWS48c1GHPXkf7x3qwO9aLROfXOenhIyIiIiL3OCc9fERERETkHgx8RERERB7HwEdERETkcV3P4dvY2LDmiIiIiMjNJiYmrLlWvGiDiIiIyOM4pEtEbUlbUL6ixZx3+RcwExFRVwx8RFRjhzp5lO/fk9uubVerat78Pj5ZzuBHRDR4GPiIqGZbbrehLBc28Zu5L+o7boz6fPrWa3YIJCKiwXNuAp/cIJzfMN9VId3bPX6Jzge568bS+p14XbaAL971EMZGfTrwyRCvZ0OfYdTv620rpDvf57bTunb7Ef2qFzvtf5/knrd7Ppz9/m56wDqR6NzqIfAZyCWsm2Ancm0rnsJyBUnr/ojOG2nXKgep+MKOD7d+3rRP5zKrbCFtPzcnvb89bmtz7kO2b6j01HZptazt66jKrb4sjVo9qV/L+RqO349drs3xRFJJVJb7UPkT9ZEd5i49cgBXHD2I4p0P4efeV8Bffu4OPbwrU9XqBfSWAtLz69a8QySFpfh+7u7fYT+Ks17sXef9nzvn5zVZJxKdW/sOfEZuHpVkEcViEavRPFo+nyrcZDFl3jBchaRYPopVVVbK2xWnsV5BNBNFZb2exIJzq7pMJphHbfF0Ri8rFpcgm0ZSMp/BdGhO79PeX8u2/jiWauXMbTV1PLOw91nfvlmn1wlZr7M6B2xax9j8XuT3k4+a5YpFx43Tm96LehX1W8o2hFGiC21H/QgZ2pVh3IsPj+HxU1tIrXwZb/u7L+Geh0/o9e6xtwaWfPYTCWl8ShkVYOz1ViPRyGWxUlpETFp/zrIyb+7A2kY1ENOORmJl2Xot87Ub9uPkrBfbHXObY2rXyGzcf/ttur1P5zbzeb2gUZvfXcf3JPLzVlnrfbT73TuPo9v7ZZ1IdE6d1ZCuUSmhbCcfm1EBAmZAMjbLmE7G0RirDKxXApiMTCJQWbc+6B2szDZVEmensFbG3ExE1Ulmr6Pd47gya1U8sUWU9ZL2SosxXS5WmYIZ2lrfiz+eRFCVs/dd0+a9+APq34uuvwCi82tE/ejHkRHsqElCnwznXnzkAP7o42XkbrkLPp+LhnQLy/UGVgaY1aFkEgu6cWU2zuzPWCmY1I0wvwowyJjri8kK5tVnVT63uoFn9cDZZe0Gm4Qec5sFBMola6kqVw7o11qdK2NNvXTzfmoc9WK7Y67vv35MmtVQbLf/Ttt0e5/ObZLB+vuoa/3ddXxPivlaqrx6H1n9+q3bNxxncQb+5mWOY2edSHTu7Dvw+SejKFsBaQ3TCI43xTkV8pqXNTDWUQlMqhDoxzjqvXllK0xlAwtWmFJqvWKOnrI22m7bhT++pCqoaeuZvIxV8agaKmgta6fWwxfImi38tu8lgpQqswBp+TqGetu8F/94sDUwE11Adg+fvkBDTRL2JPQ9fuIM3vqKIOLXP81VQ7oN9U0khaKEEvV03epBiy3WQ03IboiqhmqtkTe7glKbhGGXtdXzmh+T0ZBeJkJR+fzvznmc7Y650zE1H4fTbtu0W+/Mnf5A/X3UqHXtfned1I7PTmpttpfACPs4wvOQweFOx846kejc2X8Pnx4uNQPSFMq1ysPm/MDK/ErW7q43Get5rFgBbXalhLyV+PSwrDQJF5f33Zu3122lTlrs4zkind6LkFAph+Rc1mzXcEx0ntk9fHLRhoS9x09u4dihMbxzOoQ/fO3zcfVlR/R6t2gICDKcmMjho+l5YMGsoxztuhoJOrVGnkxteq6aOXueJKzsV3O92HzMYz0dU/dt2q3f7X0UdvndNauFZStJtt/ebATrY8gEdZ3Y6dhZJxKdO/sPfI5zNNamHOfH2Zw1imq9ZoKLiFnlE7ki1vNBZOwPuZmI6oFQhcmFubI1NKDUhkEdPWWdOLfVxzhrnnfi2FZCWAbWPlWrcr9qQ7r5KGYiRtv3UnRcpCLlFuxfUJv34mxtE7mB/R17j5w4gwePn0b46Zfjr98UwS++OKCv0JXJVUO6qo5JVszPZTiWR3QhjldNBbEYMz+DMgrR3GPU2ONkn9rhRwAdzlNTnNtky216xmo67KepXmw+5nDbY2qnvv/276Ou3frd3kek7e+u8+8mVM6a+58Fkqqua7e988I9u1ynY2edSHTujKgKvu/jM4V0Gkh1H4alAsxfE39L5B72OXs33nwnvnT3w5j/ie/BpUcO6uXS62d/+fKwfR+fhJbl8SXIx1Wu4l+bKur5/WC9uBvWiUTn0lldtNFJZCaAbIeWMpkK6SwCM6zYyF0k1ImZyDj+4LXP12FP7rQhIdAOe8PI2SM1W55Tvx9rxT6wXuyOdSLRuXVOeviIaPBJ1SCVg3z3nllL8E4bRESDioGPiIiIyOPOyZAuEREREbkHAx8RERGRx3Ud0t3Y2LDmiIiIiMjNJiYmrLlWPIePiIiIyOM4pEtERETkcQx8RKRJZ7/cSUNsbD6Ih46fNr+ahYMAREQDj4GPaIjZgU6m7eqO/s69T3zlW3jlH/4b3v6R/4R87Z7kPWc5IiIaPAx8RENOvkxZevbkbhqV+x/Hb/19CQfHRvG3t9yN93/mDn3vXAmDNoY+IqLBc/4Cn5FDYghuK1RIJ9DxvudELjOifqoqzMnjE6e2cIMKe8ZDT+DwwVEcHvMh/S9fw79XHtBhUEKhhEPP3m3DMHBWH91+1XFnexwWuf/vng+n3WsW0kj0sTJj3Uh0YfUU+KQiCYedH14DuYR5n8lwIte2siosV5C0boptbm+Wr1UoUlk696mfN+3TucwqKzcyt/dl76+holPbpO2dqgqsXjYNXaTdMtF8PM73aJdrczyRVBKV5b3WskQXVhU75u3TfCN418e/hn+97T4cO3xQh7sDKuQdP7mFuQ/9B+5/7BRGfSr0VdUWnuzhKyA9v27N98ZZx/Xu7I9j/87Pa7JuJLqw9h/4VECaxwIy09ZzUVhGPrqKYrGI1Wge8/WUZFLBKIsp6KpQbR/LR7Gqykr5pbjfLLJeQTQTRWW9vm1wztxnJphHbfF0Ri8rFpcgm0ZSMp/BdGhO79PeXycha5+rc2VkreOsLwM2rddpPh4jN197j8Viynwvoul41BGpd5p1BEUi95LwNqrC3t9+fhN/8PEyxtT84yrkPXFqG4+d2tLn8BU3H8Zbb/oiHjt5RodDdwW+vTXEpN5JJKShKWVUwLHXW41JI5fFSmkRMWkpSlnrA1xrPMqytJqcr+PkrOPaHVOb15R9mmXq5RqOo8M23d6Hc5v5vF7QqM3vpvE1m+TnrbLW+2j3u3UeR7f3y7qR6ILaf+CLpFpCVWGtjOikX9UFCcQWSyhVmj7RRgUIWMFus4zpZByNezCwXglgMjKJQGXdqhw6WJltqljOXmkxpvcZq0zBfGutx+OPJxFU5VqGONocjz8ANP8KiNxGgpsM5crj/cdP4Vdfei1++8efixte+Wyk/stzkHrlc/Bbavqdn/geXHXJIRxXAVB6+XQKdAtHY1O1+zCrQ8skFnQjzGzE2Z/FUjCpG2t+FXCQMdcXkxXdQJXPt240dumhK5UD5n7V69iNxRpHHdfumCRUNb+mZjUYpQG6pg7deRydtun2PpzbJIMlXb5R6++m23s3X0uVr73n1u0bjrM4A3/zMsexs24kunD6dA5fCYsx1aLEAoqqFghZS20S8oLjjRGvgbGOSmBShUA/xlHvzStbQSwbWLCCmFLrUXP0su1DLdzlo1iwdlrr4QtkzdZ82+OJIKXKLKh3WW/ZKm2Oxz8eRNnuKiRyKTkXT4Zy5fHXfziId/x0CL/+8iB+80efjbe9wnx8648Edeh7V/wFeMqlR3Q4lCt53aKhblGN0aKEFvV03ephkwaoLWQ3Oisl1U6zep9mV1obqB2EolInKG1Si/M42h1Tp9e0j6md3bZpt96ZO/2B5ppYUeva/W46qR2f/Z7bbC+BEfZxhOchg8Odjp11I9GF05fAJxWLhCbp+TPW8whONUYx54dc5leydhe/SbZZsYLY7EoJeSvx6SFdaUYuLu+7N69WqagasGzOaXa4Ky419zLWdToe4Y8v6Zatc1mzXQMukUvYw7Nyzp5cvNFxUut1j6AKe/Y2btAQIGS4MZHDR9PzwILZu9Rw6olF6qvpWo+Umrr06klwsdWCoTNVWZrruOZjGtvHa9p2O852651Z1HnstsIuv5tmze+5/fZmY1gfQyao68ZOx866kejC2X/gs87hkCAkvXrSI+aPLyCar/eczTTXZc5aSLV4M8FFxKTlp6ZEroj1fBAZu2Iw01Q9EPrjWHCcb6eajWar0dnL1sQeftXlZoFk0xB0M2ev30zEaHs8RceFJs7ewXbH0+bfAyJXsq+4lV476e3rOKn1dln70RVUfZKsWJ/1WB7RhTheNRXUdZMsW8N0PXxZGnuk7AvH/AjAOo8tMlWrP7Llei9ZqJw1t2lXpzTVcc3HFG77mu3Uj6P9cda1W+9c5jx2W6Tt78bx3ps0v+d22zsvwrPLdTp21o1EF86Iaq2fl+Z6IZ0GUr0Nww6WAsy36v13SjQ05GKJzZmuF4UNTx3XK9aNRBdSn87h211kJoBsmxak1xTSWQRaujiJyOuGpY7rFetGogvrvPXwEREREdGFcd56+IiIiIjowmDgIyIiIvI4Bj4iIiIij+t6Dt/GxoY1R0RERERuNjExYc214kUbRERERB7HIV0iIiIij2PgIyIiIvI4Bj4iIiIij2PgIyIiIvK48xf4jBwSvO1QTSGdQMf7pxPR+WcYaP5IGrkEzkm11a/6sM0x92Jf77Pda8q9hvtYobF+JOq/ngKfVA7hcOMHst0yp8JyBUnrptlm2bCeapWEVIDO7fVzs0w4kTMrGOcyq2whbT83J9mfc/+1bTUDuYRdNo2Cfi6PtgLSqnxRtre3sysy9Vjbp97W0nzcLa8hi1qPO5JKorLchwqf6CzYF+lX1WO12mVS6+2y3rywX33259et+XPPWR/27vwes+n8vCbrR6L+23/gU8FnHgvITFvPRbtlTirwZDEFXb2psrF8FKvFIopqWor7zSLrFUQzUVTW6/EsOLeqy2SCedQWT2f0smJxCbJpJCXzGUyH5vQ+7f1NZ8z9r0bzmLfSmJGbRz5q7lNtgmwOGA/qVXXBcTxFPYRQqb+mJWQdz+ocsGmtaz7uhtcopsz3LJqOWx25+o1kOwZkovNhZGREP/rUo8/XZVLrpayEPXsbd9hbA0s33BLSEJQyKrTY662GnZHLYqW0iJju5qqvn8/LDoXjdfQ29caiNDDNhqvaTtZ1ahzanPVhu+N3vL6z4dm8z07H3NBY7fKendvU36dDm99j42s2yc9bZa330e7PwXkc3d4v60eivtt/4IukaqGqpt0yJ6MCBMz1xmYZ08k4GksbWK8EMBmZRKCybn3gO1iZbaosuvNPRoGKuUejEkTSPs7IFILWcl3h1CoaUzAaQL6phVlajOnXjlWmYO6m9bj98SSCqlzL8Eab4/YHaodGdN5JeJPeO3n8k38t4//5hxL+5JNlvOv/fg1/+HHz8Y8+Ucbv//NX8Zu5L+Jbj5zQYU96+1yjsNzQiJvVQWQSC7pxZTbO7M9YKZjUjTC/Ci2wGoTFZEU3COVzqxuNqYgONfb6ZLCkt3U25MxGpHoVVbVIw89AUNUl6vNvbALRSbNusxp4q3NlrDVXVI76sN3xO1/fPj6taZ+djtm5Tbf33O59Nmr9PTpfs5n5Wqq8bkzL67du33CcxRn4m5c5jp31I1F/nZdz+CTkBccbI14DYx2VgFSUfoyj3ptXtgJWNrBgBSyl1lPm6D07K2VsFjYRCEK/bsCuiMfjSGKtIVTWevgCWfN8l7bHHUFKlVmAtHYdQ71tjts/HkTZ7iokOs90j536kccnHT2E967djt/72G145798DWkV8tL/8lX8vpp+96NfwX2PncLRQ2PYrlYlKVp7uPAa6hbV8CxKEFFP161es9hiPciE7EZnpaTaX1aP0uwKSk2pwpnH/IGQfpRl0Ulzod2I9I8D+fUCNjGlfioq8KlC1rHYr9WO85jbHX+n4+u6z122abe+3ftsoNa1+z12Ujs+O6m12V4CI+zjCM9DBoc7HTvrR6L+Oi+Bz/nBlfmVbGNvmrGex4oV7mZXSqoSNdfqIV1pGi4u76k3r53C8mKtVvMH6q1taVWW1XK/SnqVNVVPp1Ttvbymqu26yJRqqWbL1rNWnY5b+ONLulXrXNZs1yBMdI5J2Nuu7uB1LxrHf//RILZUlrv48BguOjSKYyrgSbYLj1+Gd//sC3Ds8AHIYK6bhnQbQoEMISZy+Gh6Hlgwe4zanWYi4cY+5UNPTb1Vzp4lCSNCltmfZfnc6zpFRgnyWVVnSD0idQUwtYdWaHN92Hz8Y7scXzu7v6fW9e3ep1Nhl99js1pwtpJk++3NBrE+hkxQ/047HTvrR6L+2n/gs87LkICzGAtbPV1tljk5axbVis0EFxGT1pyaErki1vNBZOwPu5mS6oHQH8fCXNkaIlBqQ6OO3rM27BbjLDK14WZn61LOI1zQy8tYUZlOeulQXlHPHCIziKJeEdaGdNW2MxGj7XHrCz708TlfQ2lz3M4WNtGF4FMRTuKbDO2+7UefjZc/5yo8dvK0PmfvzHZV9+otvub7cOXFh3Tvns+ntnBR4JP6JFkxP5fhWB7RhTheNRXU9ZAsW8N0Sy9RYy+TfeGYHwGY56Y512fLZs+XP76AaL7++Tc/1xFMyVCoCiXS21dSe9jTx7mpPmw+/nDb42un/TG326bd+nbv0ynS9vdYf81moXLW3P8s9Kkz7bZvuKDOKtfp2Fk/EvXXyM55uuSukE4DqX4Nw3pBAeavhL8RunDsizAkzI2qMFe5/3H8zHs+h28/cgpn1LJ3/NT34o0veQa2VPgb9dWDnqtC3wBifbgb1o9E/XZehnRFZCaAbJtW4bAqpLMIzLAyowtPQp/06EmoCzzpYvz+dAint7bxuuuv0WFPev8Y9vqL9WF3rB+J+u+89fARkbtJVSCVgYS/jc0H8QwV/i676IBex5BHRDTYGPiIiIiIPO68DekSERER0YXBwEdERETkcV2HdDc2Nqw5IiIiInKziYkJa64Vz+EjIiIi8jgO6RIRERF5HAMfERERkccx8BERERF5HAMfERERkccx8BHRcDAM6NvyF9K1G/TXtFtGROQhPQQ+A7lEAjmjgHQ4DbkbpJFLIJzIda5M9631NTo7V2V3025f/dw/EfWP+kzOr1vzbURSWIr7rSdERN7TYw9fEONSN4YCsKvIECpY72sDufU1OutXWQlsYYTDanIGWBXiwm0DXLt97edYiOisqM+n/rzqydnwavwcG7ksVkqLiKWtT3FlGQnnNnZDte3+pAEnzxNIp9XUWhEQEbmffA/f2br7pjfsvOOmm3be8I6bd3ZufsfOG266Wy29eecdExM7E3p6h3omi9S6N7yhcdnO3Ts3vaGp3AUi78M8dse8OuYJeV9E5D6Oz6euh9Rs28+x1EdvuEnVNjKrtrHm7W1q9VaH/ZmLzLrKWk1ENFD6dw7feBxJrNV6waRFjUwRxaKaMsCs1SwuBZN62epcGWtqkZGbx2JJr1JWkL2A59EYFSA6afbL+SejQMU8llCAfXVEbtX8+ez0OXYKRSc79sC325+5yI/JaEgvIyIaNH29aCMyBWSzZetZI7sSbReeQnOrZjBU04U8j8YfAPLWuLSxnrdreSIaIP3+HMv+7MxoVGqtUyKigdLfq3QjM4jCrBD98SQwa50LMwskOwQ5KRdcjFnnzMgFD9aKFgWk7fPqzhF/fAHRvHkssXwUCzyJm2jgtP8c+xGA4xy+fXDWZdkye/iIaDAN0L10DeTS65hMxXkxBBGdN/ItBMvjS0hF5JqOMNaminqeiGiQDFDgIyK6EOQq3VmsyGxoDqtLbHQS0eBh4CMiIiLyuP6ew0dERERErsPAR0RERORxDHxEREREHtf1HL6NjQ1rjoiIiIjcbGJiwpprxYs2iIiIiDyOQ7pEpNltP3msVncanpsz5gMREQ0e9vARkQ51IyMjtXAn881UBMSI+iEiosHDwEdEjt48wOcbwWe+/h188OY7cdcDT+D1PzCOmcjTda+frCMiosHT3yHdQq7LvXB70O/9EVFb0qNXVWlPAt1dDxzHm/6qiI+VvoVHT27JWj2cKz18rmPkkND34a5PibOoNOQ2aj3cbldtaJj3+S6kz+r1G9j7dOrn/js5H6/RbLffX7vfxW5220a9lvPvjUw9/dl3std/v/b775z1d/68/xmdi78XZ7vPs93+bD63u23j/PvXy9/fc6DHwCe3Gkqr/9sM5BLqAzO7iMWYc3mvOu2v+XWJqB90750KfV+991HM/u0X8dATp3HF0QP48e99CqYn/DrztRvmdYXpDIrFojWtIpqfP88NRVUvza9b8/3SYZ+RFJbi5/jGbufjNRrs9vvr5fe7t21Cc6uOvzu93CNZ/q1KqL9v6vVq/zZ1+vfLWi7hUifLduXa7a+RsZ5HMFM8z39GLnVWf1d7+Xu1V859n83rNP+dOTs9Bj4/AiFrVjFy88hHV5GZnkammMLZ3le88/4aX5eI+kOfn6cC3VfueRQbdz6Eo4fG8MSpbdz5wHG1XBcwx3sHivyjaVWWiZyqOmWRs1fH/ge1Xm4+rxco7bdNqH+M69uZjFwWK6VFxOwKubJs9Tq27r+2rwaO9dY2Dft0vq7dq9D1fSSQTrfpqbS3Veo9ma2vXSvX62uk1WRvU9uHtX1Dj6wEm91/f43rW3+XhbSat7a151v22bNd3q8WxLhkjlBA32O5479fxjoqarkOlypZdv53rnF/DdTvb36xhJVZ83enFtQDwS5/T3v5s2m/L/M1zb9LrX8eHV/fWda5ruXz0vye5Lm5Tv7e1l5X1slryfPae3Hup/uf3dl/bm2t5Zz73u3vb+ffl9L0d+asyTl8Z+/mnXdMTOxMvOGmnbutJWen3/sjom62q9WdqpqOnzqz8+o/+czOU37zH3c2Kg/uPH7yzI5aoSZ5UP9zm7tv2nmD1BWO6Q03mbXG3Te9YecdN+tZVaW8w1yuHieshfZ6Z7mb3zHRsqzdto1UfWXXVVLGmm+3/9q+HBrWqy3vNnfUuE+7QJtjaX2du3dueoP5Pho4XrvtsdmvfZav4Xz/zdvLC5hH4NxX99+fc319meJ4P/rP7R2O35Nzn53IazX83XmH2qpR/fU6vN+21GvL/hyvL8dXf5037JiH3VpuL5y/A5l3/pk2/7k16OXPxrkv/fu+SR2zffyOckKv7/z6DWXVK9l/15r/vOWx+T3dfdM79GverB7f8Q5VXn3u32G9VvNrOvdjLur0Z9f97119e8V+HSdrWftyzr9/9fm2ZeW1Ww9OLW73d+bs9OkcvghSxVXMBfOYt1sGZ6Xf+yOibqQTzz6P7xv3PQb/FUfwvddconv6ZNlADOmuziEUmsOCNcRjVKQnxGpNz66gVDErklCgsd/EqAD2Ir81hLDXbdsJRScbemY67cvmjycBe314Hu0Gf9q9buf34cdkdG9DIbu9di+vYb9//3iw9bjV03Wr9ya2WLIWNmr+/Tl1+l1GZuZQXiljbmZ/vSCNQ7qto1O9/E7b/fsVSZl/P6f16y3B/Ct69v/OyfFFJ83fln8yCuzy97SXPxtnudLiIlasebGfz0mnv2utn5fW9+QfB/LrBWxiSv1UYEgh3Q1a1/ya+/2z2+/n1rbXcmI/v6/2f2fOTh8v2jDUH0MSS5mg+oPp/Ib3rt/7I6JO7NFauSr3vsdO4wXXXKbP6ZOwp4OeWq8aiGYht/LHsZSs1IZoJLxNZ+QfcmvqMCTiD9T+ndQVstjrtnux+77kH35r3VnUd+3eRyf19ft77f28RjuF9DywYL5eZtpauA/tf5cGcvN5RDNR5Oe7Db3tX+/vd6//fp3dv3NyfPZ2cm5freXSg7382ZgBOYmK9Xve3+dkb3/X2r6nyBSC+az6Xfn1+mwWmNrlI3m2f1f3Xn/s/Xewv99X//Ul8Mm4ejg8i5WVWZVagaQdRfW4elPLZQ/LOu6PiM4JO8xtbD6IB46fwrOfcglGfT69XK9zcw+fUySFDGb1eT2NPQqdr2p0lsuWzZ6AvW5r8iOAzueL7bYvs76z1tfqu+77bKfd+2gg/2guxhrWt3/tznZ9jV1EpoJYjJnbr2Ea5U35Xez2XuvrW3+XReQSMeSjC4hH4liI5hHT50Y592md72XurEHJ+n3U9yel6uV7eb97/ferH//O+eMLiObN9xDLR2u9271o/2fTTgQz8ntu++fRaZu9/11r/54imAqq0DauAt+4+nNTf7q7vdPd/+zO7nNra1/Oue9uf387/7466/z3eVeqMu+Pm9/RZoz8LPR7f0TU0da2eX7e//mSsfOj71rb+fc77tfn7MlyV567Ry2c5wfZ5yL22/l4DTfp+f3u9d8v/jt3zgzb39W9GJH/WdmPiIaWVAPNPXjWN+9JB98g9O4NPbkCcNY8xyo0h9Wl+K69IPt3Pl7DTYbt/XoJ/+yaMfAREfSorZyq56gOGPKIiLyDgY+IiIjI4/p4lS4RERERuREDHxEREZHHdR3S3djYsOaIiIiIyM0mJiasuVY8h4+IiIjI4zikS0RERORpwP8H6eXLCjOhvEcAAAAASUVORK5CYII=)"
      ]
    },
    {
      "cell_type": "code",
      "metadata": {
        "id": "4BGFnjmQ2PGS"
      },
      "source": [
        "fig, ax = plt.subplots(figsize=(12,6))\n",
        "\n",
        "# Use marker for string code\n",
        "# Use markersize or ms for size\n",
        "\n",
        "ax.plot(a, a-1,marker='+',markersize=15)\n",
        "ax.plot(a, a-2,marker='o',ms=15) #ms can be used for markersize\n",
        "ax.plot(a, a-3,marker='D',ms=15,lw=0) # make linewidth zero to see only markers\n",
        "ax.plot(a, a-4,marker='p',ms=15)"
      ],
      "execution_count": null,
      "outputs": []
    },
    {
      "cell_type": "markdown",
      "metadata": {
        "id": "JIoTJIgKHyzB"
      },
      "source": [
        "# 2D Array Plots"
      ]
    },
    {
      "cell_type": "code",
      "metadata": {
        "id": "OKxnyldFFEwi"
      },
      "source": [
        "x = np.linspace(-10,10,100)\n",
        "y = np.linspace(-10,10,100)\n",
        "X,Y = np.meshgrid(x,y)\n",
        "Z = X**2 + Y**2"
      ],
      "execution_count": null,
      "outputs": []
    },
    {
      "cell_type": "code",
      "metadata": {
        "id": "SlwwpSfLIvLR"
      },
      "source": [
        "X"
      ],
      "execution_count": null,
      "outputs": []
    },
    {
      "cell_type": "code",
      "metadata": {
        "id": "-MKfOroEIy6V"
      },
      "source": [
        "Y"
      ],
      "execution_count": null,
      "outputs": []
    },
    {
      "cell_type": "code",
      "metadata": {
        "id": "X_z5qCKhI1HX"
      },
      "source": [
        "Z"
      ],
      "execution_count": null,
      "outputs": []
    },
    {
      "cell_type": "markdown",
      "metadata": {
        "id": "E0y5rz_-NRAm"
      },
      "source": [
        "## `.contourf()`"
      ]
    },
    {
      "cell_type": "code",
      "metadata": {
        "id": "6TK1Lw6CIReS"
      },
      "source": [
        "plt.xlabel(\"x axis\")\n",
        "plt.ylabel(\"y axis\")\n",
        "plt.axis(\"equal\")\n",
        "plt.contourf(X,Y,Z) \n",
        "plt.colorbar()"
      ],
      "execution_count": null,
      "outputs": []
    },
    {
      "cell_type": "code",
      "metadata": {
        "id": "cWaZ3gfaJcU2"
      },
      "source": [
        "plt.xlabel(\"x axis\")\n",
        "plt.ylabel(\"y axis\")\n",
        "plt.axis(\"equal\")\n",
        "plt.contourf(X,Y,Z, levels=15) \n",
        "plt.colorbar()"
      ],
      "execution_count": null,
      "outputs": []
    },
    {
      "cell_type": "code",
      "metadata": {
        "id": "BB0RD80vJvUZ"
      },
      "source": [
        "plt.xlabel(\"x axis\")\n",
        "plt.ylabel(\"y axis\")\n",
        "plt.axis(\"equal\")\n",
        "plt.contourf(X,Y,Z, levels=15, cmap='inferno') \n",
        "plt.colorbar()"
      ],
      "execution_count": null,
      "outputs": []
    },
    {
      "cell_type": "markdown",
      "metadata": {
        "id": "AnUwpdI4NVxb"
      },
      "source": [
        "## `imshow()`"
      ]
    },
    {
      "cell_type": "code",
      "metadata": {
        "id": "TweV3XT0FZsY"
      },
      "source": [
        "plt.imshow(Z, cmap='jet', extent=[0,10,0,10])\n",
        "plt.colorbar()"
      ],
      "execution_count": null,
      "outputs": []
    },
    {
      "cell_type": "code",
      "metadata": {
        "id": "z8pmVpN0KlPm"
      },
      "source": [
        "plt.imshow(np.sin(Z), cmap='jet', extent=[0,10,0,10])\n",
        "plt.colorbar()"
      ],
      "execution_count": null,
      "outputs": []
    },
    {
      "cell_type": "markdown",
      "metadata": {
        "id": "SumSo1hDK-Kk"
      },
      "source": [
        "`cmap` colors check https://matplotlib.org/stable/tutorials/colors/colormaps.html"
      ]
    },
    {
      "cell_type": "code",
      "metadata": {
        "id": "3I9T5bqWL6Fo"
      },
      "source": [
        "import pandas as pd\n",
        "digits = pd.read_csv('sample_data/mnist_train_small.csv')\n",
        "digits"
      ],
      "execution_count": null,
      "outputs": []
    },
    {
      "cell_type": "code",
      "metadata": {
        "id": "bc8oEHSGMlOQ"
      },
      "source": [
        "digits = digits.drop(['6'], axis=1)"
      ],
      "execution_count": null,
      "outputs": []
    },
    {
      "cell_type": "code",
      "metadata": {
        "id": "8eWn7OtaLWsA"
      },
      "source": [
        "for i in range(5):\n",
        "  plt.imshow(np.array(digits.iloc[i]).reshape(28,28))\n",
        "  plt.show()"
      ],
      "execution_count": null,
      "outputs": []
    },
    {
      "cell_type": "markdown",
      "metadata": {
        "id": "eIw1D2Ao_Und"
      },
      "source": [
        "# Setelah melihat bagaimana kalian bisa dengan mudah membuat plot-plot sederhana dan juga subplots yang bisa kalian berikan styling dengan berbagai parameter dan variasi dengan menggunakan matplotlib, kita belum mulai melihat plot-plot statistikal seperti scatterplot, histogram, distribution plot dan yang lainnya.\n",
        "\n",
        "#Plot-plot statistikal untuk eksplorasi data akan menggunakan library selain matplotlib yaitu Seaborn yang dibuat berdasarkan dari matplotlib sendiri\n",
        "\n",
        "#お疲れ様でした。"
      ]
    }
  ]
}