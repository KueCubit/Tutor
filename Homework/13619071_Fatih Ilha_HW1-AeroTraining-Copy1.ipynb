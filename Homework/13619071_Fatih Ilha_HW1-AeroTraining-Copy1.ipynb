{
 "cells": [
  {
   "cell_type": "code",
   "execution_count": null,
   "id": "930e7392",
   "metadata": {},
   "outputs": [],
   "source": [
    "#Assign number to define\n",
    "n = input('Banyak data:')\n",
    "n = int(n) #Set input to integer\n",
    "\n",
    "#Set looping for n input\n",
    "for i in range (1,n+1):\n",
    "    if i % 3 == 0 and i % 5 == 0: #Condition 1\n",
    "        print('FizzBuzz')\n",
    "    elif i % 3 == 0: #Condition 2\n",
    "        print('Fizz')\n",
    "    elif i % 5 == 0: #Condition 3\n",
    "        print('Buzz')\n",
    "    else:\n",
    "        print(i)"
   ]
  },
  {
   "cell_type": "code",
   "execution_count": 12,
   "id": "f601762b",
   "metadata": {},
   "outputs": [
    {
     "name": "stdout",
     "output_type": "stream",
     "text": [
      "Cek kata:ada\n",
      "Apakah palindrome?\n",
      "a\n",
      "da\n",
      "ada\n",
      "Yes\n"
     ]
    }
   ],
   "source": [
    "#Assign and define the world to check\n",
    "s=input('Cek kata:') \n",
    "\n",
    "print('Apakah palindrome?')\n",
    "\n",
    "#Saving the word we arrange backward\n",
    "t=''\n",
    "\n",
    "#Set looping for s string\n",
    "for i in s:\n",
    "    t = i + t\n",
    "    #print(t)\n",
    "\n",
    "#Checking with the condition\n",
    "if w == s:\n",
    "    print('Yes')\n",
    "else:\n",
    "    print('No')"
   ]
  },
  {
   "cell_type": "code",
   "execution_count": 16,
   "id": "bd836cfb",
   "metadata": {},
   "outputs": [
    {
     "name": "stdout",
     "output_type": "stream",
     "text": [
      "a\n",
      "da\n",
      "ada\n"
     ]
    }
   ],
   "source": [
    "a='ada'\n",
    "b=''\n",
    "\n",
    "for i in a:\n",
    "    b = i + b\n",
    "    print(b)"
   ]
  },
  {
   "cell_type": "code",
   "execution_count": null,
   "id": "d2f1d041",
   "metadata": {},
   "outputs": [],
   "source": []
  }
 ],
 "metadata": {
  "kernelspec": {
   "display_name": "Python 3",
   "language": "python",
   "name": "python3"
  },
  "language_info": {
   "codemirror_mode": {
    "name": "ipython",
    "version": 3
   },
   "file_extension": ".py",
   "mimetype": "text/x-python",
   "name": "python",
   "nbconvert_exporter": "python",
   "pygments_lexer": "ipython3",
   "version": "3.8.8"
  }
 },
 "nbformat": 4,
 "nbformat_minor": 5
}
